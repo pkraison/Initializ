{
  "nbformat": 4,
  "nbformat_minor": 0,
  "metadata": {
    "colab": {
      "provenance": [],
      "authorship_tag": "ABX9TyOT+tYGUfXrm1znT1HUxmrj",
      "include_colab_link": true
    },
    "kernelspec": {
      "name": "python3",
      "display_name": "Python 3"
    },
    "language_info": {
      "name": "python"
    },
    "accelerator": "GPU",
    "widgets": {
      "application/vnd.jupyter.widget-state+json": {
        "e4a401b138fd41b0b100ac7f6f36f689": {
          "model_module": "@jupyter-widgets/controls",
          "model_name": "HBoxModel",
          "model_module_version": "1.5.0",
          "state": {
            "_dom_classes": [],
            "_model_module": "@jupyter-widgets/controls",
            "_model_module_version": "1.5.0",
            "_model_name": "HBoxModel",
            "_view_count": null,
            "_view_module": "@jupyter-widgets/controls",
            "_view_module_version": "1.5.0",
            "_view_name": "HBoxView",
            "box_style": "",
            "children": [
              "IPY_MODEL_7c398b03911d45e1ac4cb5003df5e039",
              "IPY_MODEL_cd208b4a7cd4417b9552e8717ddcbd89",
              "IPY_MODEL_ede04835698b4d51beb711d978d145a2"
            ],
            "layout": "IPY_MODEL_4668a6008b684680a4d60fbe6ac03d57"
          }
        },
        "7c398b03911d45e1ac4cb5003df5e039": {
          "model_module": "@jupyter-widgets/controls",
          "model_name": "HTMLModel",
          "model_module_version": "1.5.0",
          "state": {
            "_dom_classes": [],
            "_model_module": "@jupyter-widgets/controls",
            "_model_module_version": "1.5.0",
            "_model_name": "HTMLModel",
            "_view_count": null,
            "_view_module": "@jupyter-widgets/controls",
            "_view_module_version": "1.5.0",
            "_view_name": "HTMLView",
            "description": "",
            "description_tooltip": null,
            "layout": "IPY_MODEL_b076dfafec0d46c9bf77cd2838bda570",
            "placeholder": "​",
            "style": "IPY_MODEL_0d57d0b15950461992db11be241c44dc",
            "value": "100%"
          }
        },
        "cd208b4a7cd4417b9552e8717ddcbd89": {
          "model_module": "@jupyter-widgets/controls",
          "model_name": "FloatProgressModel",
          "model_module_version": "1.5.0",
          "state": {
            "_dom_classes": [],
            "_model_module": "@jupyter-widgets/controls",
            "_model_module_version": "1.5.0",
            "_model_name": "FloatProgressModel",
            "_view_count": null,
            "_view_module": "@jupyter-widgets/controls",
            "_view_module_version": "1.5.0",
            "_view_name": "ProgressView",
            "bar_style": "success",
            "description": "",
            "description_tooltip": null,
            "layout": "IPY_MODEL_4940dad798474c368f13fb40a41f19fa",
            "max": 2640397119,
            "min": 0,
            "orientation": "horizontal",
            "style": "IPY_MODEL_cdb3d2636fab433e862aabfa66282227",
            "value": 2640397119
          }
        },
        "ede04835698b4d51beb711d978d145a2": {
          "model_module": "@jupyter-widgets/controls",
          "model_name": "HTMLModel",
          "model_module_version": "1.5.0",
          "state": {
            "_dom_classes": [],
            "_model_module": "@jupyter-widgets/controls",
            "_model_module_version": "1.5.0",
            "_model_name": "HTMLModel",
            "_view_count": null,
            "_view_module": "@jupyter-widgets/controls",
            "_view_module_version": "1.5.0",
            "_view_name": "HTMLView",
            "description": "",
            "description_tooltip": null,
            "layout": "IPY_MODEL_3b055fb0fa054aa5ad72984fc12e16e4",
            "placeholder": "​",
            "style": "IPY_MODEL_e7a1d7c6c5c14331a42b3f8dc8a2f8c3",
            "value": " 2640397119/2640397119 [03:01&lt;00:00, 15342897.15it/s]"
          }
        },
        "4668a6008b684680a4d60fbe6ac03d57": {
          "model_module": "@jupyter-widgets/base",
          "model_name": "LayoutModel",
          "model_module_version": "1.2.0",
          "state": {
            "_model_module": "@jupyter-widgets/base",
            "_model_module_version": "1.2.0",
            "_model_name": "LayoutModel",
            "_view_count": null,
            "_view_module": "@jupyter-widgets/base",
            "_view_module_version": "1.2.0",
            "_view_name": "LayoutView",
            "align_content": null,
            "align_items": null,
            "align_self": null,
            "border": null,
            "bottom": null,
            "display": null,
            "flex": null,
            "flex_flow": null,
            "grid_area": null,
            "grid_auto_columns": null,
            "grid_auto_flow": null,
            "grid_auto_rows": null,
            "grid_column": null,
            "grid_gap": null,
            "grid_row": null,
            "grid_template_areas": null,
            "grid_template_columns": null,
            "grid_template_rows": null,
            "height": null,
            "justify_content": null,
            "justify_items": null,
            "left": null,
            "margin": null,
            "max_height": null,
            "max_width": null,
            "min_height": null,
            "min_width": null,
            "object_fit": null,
            "object_position": null,
            "order": null,
            "overflow": null,
            "overflow_x": null,
            "overflow_y": null,
            "padding": null,
            "right": null,
            "top": null,
            "visibility": null,
            "width": null
          }
        },
        "b076dfafec0d46c9bf77cd2838bda570": {
          "model_module": "@jupyter-widgets/base",
          "model_name": "LayoutModel",
          "model_module_version": "1.2.0",
          "state": {
            "_model_module": "@jupyter-widgets/base",
            "_model_module_version": "1.2.0",
            "_model_name": "LayoutModel",
            "_view_count": null,
            "_view_module": "@jupyter-widgets/base",
            "_view_module_version": "1.2.0",
            "_view_name": "LayoutView",
            "align_content": null,
            "align_items": null,
            "align_self": null,
            "border": null,
            "bottom": null,
            "display": null,
            "flex": null,
            "flex_flow": null,
            "grid_area": null,
            "grid_auto_columns": null,
            "grid_auto_flow": null,
            "grid_auto_rows": null,
            "grid_column": null,
            "grid_gap": null,
            "grid_row": null,
            "grid_template_areas": null,
            "grid_template_columns": null,
            "grid_template_rows": null,
            "height": null,
            "justify_content": null,
            "justify_items": null,
            "left": null,
            "margin": null,
            "max_height": null,
            "max_width": null,
            "min_height": null,
            "min_width": null,
            "object_fit": null,
            "object_position": null,
            "order": null,
            "overflow": null,
            "overflow_x": null,
            "overflow_y": null,
            "padding": null,
            "right": null,
            "top": null,
            "visibility": null,
            "width": null
          }
        },
        "0d57d0b15950461992db11be241c44dc": {
          "model_module": "@jupyter-widgets/controls",
          "model_name": "DescriptionStyleModel",
          "model_module_version": "1.5.0",
          "state": {
            "_model_module": "@jupyter-widgets/controls",
            "_model_module_version": "1.5.0",
            "_model_name": "DescriptionStyleModel",
            "_view_count": null,
            "_view_module": "@jupyter-widgets/base",
            "_view_module_version": "1.2.0",
            "_view_name": "StyleView",
            "description_width": ""
          }
        },
        "4940dad798474c368f13fb40a41f19fa": {
          "model_module": "@jupyter-widgets/base",
          "model_name": "LayoutModel",
          "model_module_version": "1.2.0",
          "state": {
            "_model_module": "@jupyter-widgets/base",
            "_model_module_version": "1.2.0",
            "_model_name": "LayoutModel",
            "_view_count": null,
            "_view_module": "@jupyter-widgets/base",
            "_view_module_version": "1.2.0",
            "_view_name": "LayoutView",
            "align_content": null,
            "align_items": null,
            "align_self": null,
            "border": null,
            "bottom": null,
            "display": null,
            "flex": null,
            "flex_flow": null,
            "grid_area": null,
            "grid_auto_columns": null,
            "grid_auto_flow": null,
            "grid_auto_rows": null,
            "grid_column": null,
            "grid_gap": null,
            "grid_row": null,
            "grid_template_areas": null,
            "grid_template_columns": null,
            "grid_template_rows": null,
            "height": null,
            "justify_content": null,
            "justify_items": null,
            "left": null,
            "margin": null,
            "max_height": null,
            "max_width": null,
            "min_height": null,
            "min_width": null,
            "object_fit": null,
            "object_position": null,
            "order": null,
            "overflow": null,
            "overflow_x": null,
            "overflow_y": null,
            "padding": null,
            "right": null,
            "top": null,
            "visibility": null,
            "width": null
          }
        },
        "cdb3d2636fab433e862aabfa66282227": {
          "model_module": "@jupyter-widgets/controls",
          "model_name": "ProgressStyleModel",
          "model_module_version": "1.5.0",
          "state": {
            "_model_module": "@jupyter-widgets/controls",
            "_model_module_version": "1.5.0",
            "_model_name": "ProgressStyleModel",
            "_view_count": null,
            "_view_module": "@jupyter-widgets/base",
            "_view_module_version": "1.2.0",
            "_view_name": "StyleView",
            "bar_color": null,
            "description_width": ""
          }
        },
        "3b055fb0fa054aa5ad72984fc12e16e4": {
          "model_module": "@jupyter-widgets/base",
          "model_name": "LayoutModel",
          "model_module_version": "1.2.0",
          "state": {
            "_model_module": "@jupyter-widgets/base",
            "_model_module_version": "1.2.0",
            "_model_name": "LayoutModel",
            "_view_count": null,
            "_view_module": "@jupyter-widgets/base",
            "_view_module_version": "1.2.0",
            "_view_name": "LayoutView",
            "align_content": null,
            "align_items": null,
            "align_self": null,
            "border": null,
            "bottom": null,
            "display": null,
            "flex": null,
            "flex_flow": null,
            "grid_area": null,
            "grid_auto_columns": null,
            "grid_auto_flow": null,
            "grid_auto_rows": null,
            "grid_column": null,
            "grid_gap": null,
            "grid_row": null,
            "grid_template_areas": null,
            "grid_template_columns": null,
            "grid_template_rows": null,
            "height": null,
            "justify_content": null,
            "justify_items": null,
            "left": null,
            "margin": null,
            "max_height": null,
            "max_width": null,
            "min_height": null,
            "min_width": null,
            "object_fit": null,
            "object_position": null,
            "order": null,
            "overflow": null,
            "overflow_x": null,
            "overflow_y": null,
            "padding": null,
            "right": null,
            "top": null,
            "visibility": null,
            "width": null
          }
        },
        "e7a1d7c6c5c14331a42b3f8dc8a2f8c3": {
          "model_module": "@jupyter-widgets/controls",
          "model_name": "DescriptionStyleModel",
          "model_module_version": "1.5.0",
          "state": {
            "_model_module": "@jupyter-widgets/controls",
            "_model_module_version": "1.5.0",
            "_model_name": "DescriptionStyleModel",
            "_view_count": null,
            "_view_module": "@jupyter-widgets/base",
            "_view_module_version": "1.2.0",
            "_view_name": "StyleView",
            "description_width": ""
          }
        },
        "8106ebca4dc241148a62d6f2b0374557": {
          "model_module": "@jupyter-widgets/controls",
          "model_name": "HBoxModel",
          "model_module_version": "1.5.0",
          "state": {
            "_dom_classes": [],
            "_model_module": "@jupyter-widgets/controls",
            "_model_module_version": "1.5.0",
            "_model_name": "HBoxModel",
            "_view_count": null,
            "_view_module": "@jupyter-widgets/controls",
            "_view_module_version": "1.5.0",
            "_view_name": "HBoxView",
            "box_style": "",
            "children": [
              "IPY_MODEL_bebd6b6f89d14d24b1a4f1d2b5d073a7",
              "IPY_MODEL_7190aeb4bb254a81a9e54be180b5fad5",
              "IPY_MODEL_2fb1da9e05c64a72ad4001bb513dcf86"
            ],
            "layout": "IPY_MODEL_6095d4e9fc514247afeac3b3348e6318"
          }
        },
        "bebd6b6f89d14d24b1a4f1d2b5d073a7": {
          "model_module": "@jupyter-widgets/controls",
          "model_name": "HTMLModel",
          "model_module_version": "1.5.0",
          "state": {
            "_dom_classes": [],
            "_model_module": "@jupyter-widgets/controls",
            "_model_module_version": "1.5.0",
            "_model_name": "HTMLModel",
            "_view_count": null,
            "_view_module": "@jupyter-widgets/controls",
            "_view_module_version": "1.5.0",
            "_view_name": "HTMLView",
            "description": "",
            "description_tooltip": null,
            "layout": "IPY_MODEL_a6ae500f2e934dad96a7ef35ed9f9762",
            "placeholder": "​",
            "style": "IPY_MODEL_af12f7ec76b74bfdbed05b41bcc44a7d",
            "value": "100%"
          }
        },
        "7190aeb4bb254a81a9e54be180b5fad5": {
          "model_module": "@jupyter-widgets/controls",
          "model_name": "FloatProgressModel",
          "model_module_version": "1.5.0",
          "state": {
            "_dom_classes": [],
            "_model_module": "@jupyter-widgets/controls",
            "_model_module_version": "1.5.0",
            "_model_name": "FloatProgressModel",
            "_view_count": null,
            "_view_module": "@jupyter-widgets/controls",
            "_view_module_version": "1.5.0",
            "_view_name": "ProgressView",
            "bar_style": "success",
            "description": "",
            "description_tooltip": null,
            "layout": "IPY_MODEL_879ce6c1af6c4042a3a23f9944b2ac59",
            "max": 79,
            "min": 0,
            "orientation": "horizontal",
            "style": "IPY_MODEL_dc7b3aa3657247b7902a172f4b513761",
            "value": 79
          }
        },
        "2fb1da9e05c64a72ad4001bb513dcf86": {
          "model_module": "@jupyter-widgets/controls",
          "model_name": "HTMLModel",
          "model_module_version": "1.5.0",
          "state": {
            "_dom_classes": [],
            "_model_module": "@jupyter-widgets/controls",
            "_model_module_version": "1.5.0",
            "_model_name": "HTMLModel",
            "_view_count": null,
            "_view_module": "@jupyter-widgets/controls",
            "_view_module_version": "1.5.0",
            "_view_name": "HTMLView",
            "description": "",
            "description_tooltip": null,
            "layout": "IPY_MODEL_5d460a5a5f3349caad17532359602b84",
            "placeholder": "​",
            "style": "IPY_MODEL_078e8b1033ff4b6a8622467ce8b896ce",
            "value": " 79/79 [00:09&lt;00:00, 26.93it/s]"
          }
        },
        "6095d4e9fc514247afeac3b3348e6318": {
          "model_module": "@jupyter-widgets/base",
          "model_name": "LayoutModel",
          "model_module_version": "1.2.0",
          "state": {
            "_model_module": "@jupyter-widgets/base",
            "_model_module_version": "1.2.0",
            "_model_name": "LayoutModel",
            "_view_count": null,
            "_view_module": "@jupyter-widgets/base",
            "_view_module_version": "1.2.0",
            "_view_name": "LayoutView",
            "align_content": null,
            "align_items": null,
            "align_self": null,
            "border": null,
            "bottom": null,
            "display": null,
            "flex": null,
            "flex_flow": null,
            "grid_area": null,
            "grid_auto_columns": null,
            "grid_auto_flow": null,
            "grid_auto_rows": null,
            "grid_column": null,
            "grid_gap": null,
            "grid_row": null,
            "grid_template_areas": null,
            "grid_template_columns": null,
            "grid_template_rows": null,
            "height": null,
            "justify_content": null,
            "justify_items": null,
            "left": null,
            "margin": null,
            "max_height": null,
            "max_width": null,
            "min_height": null,
            "min_width": null,
            "object_fit": null,
            "object_position": null,
            "order": null,
            "overflow": null,
            "overflow_x": null,
            "overflow_y": null,
            "padding": null,
            "right": null,
            "top": null,
            "visibility": null,
            "width": null
          }
        },
        "a6ae500f2e934dad96a7ef35ed9f9762": {
          "model_module": "@jupyter-widgets/base",
          "model_name": "LayoutModel",
          "model_module_version": "1.2.0",
          "state": {
            "_model_module": "@jupyter-widgets/base",
            "_model_module_version": "1.2.0",
            "_model_name": "LayoutModel",
            "_view_count": null,
            "_view_module": "@jupyter-widgets/base",
            "_view_module_version": "1.2.0",
            "_view_name": "LayoutView",
            "align_content": null,
            "align_items": null,
            "align_self": null,
            "border": null,
            "bottom": null,
            "display": null,
            "flex": null,
            "flex_flow": null,
            "grid_area": null,
            "grid_auto_columns": null,
            "grid_auto_flow": null,
            "grid_auto_rows": null,
            "grid_column": null,
            "grid_gap": null,
            "grid_row": null,
            "grid_template_areas": null,
            "grid_template_columns": null,
            "grid_template_rows": null,
            "height": null,
            "justify_content": null,
            "justify_items": null,
            "left": null,
            "margin": null,
            "max_height": null,
            "max_width": null,
            "min_height": null,
            "min_width": null,
            "object_fit": null,
            "object_position": null,
            "order": null,
            "overflow": null,
            "overflow_x": null,
            "overflow_y": null,
            "padding": null,
            "right": null,
            "top": null,
            "visibility": null,
            "width": null
          }
        },
        "af12f7ec76b74bfdbed05b41bcc44a7d": {
          "model_module": "@jupyter-widgets/controls",
          "model_name": "DescriptionStyleModel",
          "model_module_version": "1.5.0",
          "state": {
            "_model_module": "@jupyter-widgets/controls",
            "_model_module_version": "1.5.0",
            "_model_name": "DescriptionStyleModel",
            "_view_count": null,
            "_view_module": "@jupyter-widgets/base",
            "_view_module_version": "1.2.0",
            "_view_name": "StyleView",
            "description_width": ""
          }
        },
        "879ce6c1af6c4042a3a23f9944b2ac59": {
          "model_module": "@jupyter-widgets/base",
          "model_name": "LayoutModel",
          "model_module_version": "1.2.0",
          "state": {
            "_model_module": "@jupyter-widgets/base",
            "_model_module_version": "1.2.0",
            "_model_name": "LayoutModel",
            "_view_count": null,
            "_view_module": "@jupyter-widgets/base",
            "_view_module_version": "1.2.0",
            "_view_name": "LayoutView",
            "align_content": null,
            "align_items": null,
            "align_self": null,
            "border": null,
            "bottom": null,
            "display": null,
            "flex": null,
            "flex_flow": null,
            "grid_area": null,
            "grid_auto_columns": null,
            "grid_auto_flow": null,
            "grid_auto_rows": null,
            "grid_column": null,
            "grid_gap": null,
            "grid_row": null,
            "grid_template_areas": null,
            "grid_template_columns": null,
            "grid_template_rows": null,
            "height": null,
            "justify_content": null,
            "justify_items": null,
            "left": null,
            "margin": null,
            "max_height": null,
            "max_width": null,
            "min_height": null,
            "min_width": null,
            "object_fit": null,
            "object_position": null,
            "order": null,
            "overflow": null,
            "overflow_x": null,
            "overflow_y": null,
            "padding": null,
            "right": null,
            "top": null,
            "visibility": null,
            "width": null
          }
        },
        "dc7b3aa3657247b7902a172f4b513761": {
          "model_module": "@jupyter-widgets/controls",
          "model_name": "ProgressStyleModel",
          "model_module_version": "1.5.0",
          "state": {
            "_model_module": "@jupyter-widgets/controls",
            "_model_module_version": "1.5.0",
            "_model_name": "ProgressStyleModel",
            "_view_count": null,
            "_view_module": "@jupyter-widgets/base",
            "_view_module_version": "1.2.0",
            "_view_name": "StyleView",
            "bar_color": null,
            "description_width": ""
          }
        },
        "5d460a5a5f3349caad17532359602b84": {
          "model_module": "@jupyter-widgets/base",
          "model_name": "LayoutModel",
          "model_module_version": "1.2.0",
          "state": {
            "_model_module": "@jupyter-widgets/base",
            "_model_module_version": "1.2.0",
            "_model_name": "LayoutModel",
            "_view_count": null,
            "_view_module": "@jupyter-widgets/base",
            "_view_module_version": "1.2.0",
            "_view_name": "LayoutView",
            "align_content": null,
            "align_items": null,
            "align_self": null,
            "border": null,
            "bottom": null,
            "display": null,
            "flex": null,
            "flex_flow": null,
            "grid_area": null,
            "grid_auto_columns": null,
            "grid_auto_flow": null,
            "grid_auto_rows": null,
            "grid_column": null,
            "grid_gap": null,
            "grid_row": null,
            "grid_template_areas": null,
            "grid_template_columns": null,
            "grid_template_rows": null,
            "height": null,
            "justify_content": null,
            "justify_items": null,
            "left": null,
            "margin": null,
            "max_height": null,
            "max_width": null,
            "min_height": null,
            "min_width": null,
            "object_fit": null,
            "object_position": null,
            "order": null,
            "overflow": null,
            "overflow_x": null,
            "overflow_y": null,
            "padding": null,
            "right": null,
            "top": null,
            "visibility": null,
            "width": null
          }
        },
        "078e8b1033ff4b6a8622467ce8b896ce": {
          "model_module": "@jupyter-widgets/controls",
          "model_name": "DescriptionStyleModel",
          "model_module_version": "1.5.0",
          "state": {
            "_model_module": "@jupyter-widgets/controls",
            "_model_module_version": "1.5.0",
            "_model_name": "DescriptionStyleModel",
            "_view_count": null,
            "_view_module": "@jupyter-widgets/base",
            "_view_module_version": "1.2.0",
            "_view_name": "StyleView",
            "description_width": ""
          }
        },
        "d271b18a226e4c33b9686b49b4b7667c": {
          "model_module": "@jupyter-widgets/controls",
          "model_name": "HBoxModel",
          "model_module_version": "1.5.0",
          "state": {
            "_dom_classes": [],
            "_model_module": "@jupyter-widgets/controls",
            "_model_module_version": "1.5.0",
            "_model_name": "HBoxModel",
            "_view_count": null,
            "_view_module": "@jupyter-widgets/controls",
            "_view_module_version": "1.5.0",
            "_view_name": "HBoxView",
            "box_style": "",
            "children": [
              "IPY_MODEL_e8ae4bc46d974d5c86d79b17fa514a21",
              "IPY_MODEL_fe5cdcf8e0d3424f98d7a2aa98e6757c",
              "IPY_MODEL_91ab897007fb44698b081df58d7d4dfc"
            ],
            "layout": "IPY_MODEL_7f278f48a4f44c53b9bfe5dce949e628"
          }
        },
        "e8ae4bc46d974d5c86d79b17fa514a21": {
          "model_module": "@jupyter-widgets/controls",
          "model_name": "HTMLModel",
          "model_module_version": "1.5.0",
          "state": {
            "_dom_classes": [],
            "_model_module": "@jupyter-widgets/controls",
            "_model_module_version": "1.5.0",
            "_model_name": "HTMLModel",
            "_view_count": null,
            "_view_module": "@jupyter-widgets/controls",
            "_view_module_version": "1.5.0",
            "_view_name": "HTMLView",
            "description": "",
            "description_tooltip": null,
            "layout": "IPY_MODEL_cbbd6bd9c9d04ba3910a2b201b48b86b",
            "placeholder": "​",
            "style": "IPY_MODEL_48dd6d0090ce4ac790e90b7f6112a11a",
            "value": "100%"
          }
        },
        "fe5cdcf8e0d3424f98d7a2aa98e6757c": {
          "model_module": "@jupyter-widgets/controls",
          "model_name": "FloatProgressModel",
          "model_module_version": "1.5.0",
          "state": {
            "_dom_classes": [],
            "_model_module": "@jupyter-widgets/controls",
            "_model_module_version": "1.5.0",
            "_model_name": "FloatProgressModel",
            "_view_count": null,
            "_view_module": "@jupyter-widgets/controls",
            "_view_module_version": "1.5.0",
            "_view_name": "ProgressView",
            "bar_style": "success",
            "description": "",
            "description_tooltip": null,
            "layout": "IPY_MODEL_ace6dbcefac44ebab6e3d0963116ce1c",
            "max": 125,
            "min": 0,
            "orientation": "horizontal",
            "style": "IPY_MODEL_7b79bf2876db43beabf13c3a614714e2",
            "value": 125
          }
        },
        "91ab897007fb44698b081df58d7d4dfc": {
          "model_module": "@jupyter-widgets/controls",
          "model_name": "HTMLModel",
          "model_module_version": "1.5.0",
          "state": {
            "_dom_classes": [],
            "_model_module": "@jupyter-widgets/controls",
            "_model_module_version": "1.5.0",
            "_model_name": "HTMLModel",
            "_view_count": null,
            "_view_module": "@jupyter-widgets/controls",
            "_view_module_version": "1.5.0",
            "_view_name": "HTMLView",
            "description": "",
            "description_tooltip": null,
            "layout": "IPY_MODEL_4ad361dd2abd46daa0a8e94c204976e1",
            "placeholder": "​",
            "style": "IPY_MODEL_17aa1ad410f146f38c38ea5ef8a8c549",
            "value": " 125/125 [00:04&lt;00:00, 25.96it/s]"
          }
        },
        "7f278f48a4f44c53b9bfe5dce949e628": {
          "model_module": "@jupyter-widgets/base",
          "model_name": "LayoutModel",
          "model_module_version": "1.2.0",
          "state": {
            "_model_module": "@jupyter-widgets/base",
            "_model_module_version": "1.2.0",
            "_model_name": "LayoutModel",
            "_view_count": null,
            "_view_module": "@jupyter-widgets/base",
            "_view_module_version": "1.2.0",
            "_view_name": "LayoutView",
            "align_content": null,
            "align_items": null,
            "align_self": null,
            "border": null,
            "bottom": null,
            "display": null,
            "flex": null,
            "flex_flow": null,
            "grid_area": null,
            "grid_auto_columns": null,
            "grid_auto_flow": null,
            "grid_auto_rows": null,
            "grid_column": null,
            "grid_gap": null,
            "grid_row": null,
            "grid_template_areas": null,
            "grid_template_columns": null,
            "grid_template_rows": null,
            "height": null,
            "justify_content": null,
            "justify_items": null,
            "left": null,
            "margin": null,
            "max_height": null,
            "max_width": null,
            "min_height": null,
            "min_width": null,
            "object_fit": null,
            "object_position": null,
            "order": null,
            "overflow": null,
            "overflow_x": null,
            "overflow_y": null,
            "padding": null,
            "right": null,
            "top": null,
            "visibility": null,
            "width": null
          }
        },
        "cbbd6bd9c9d04ba3910a2b201b48b86b": {
          "model_module": "@jupyter-widgets/base",
          "model_name": "LayoutModel",
          "model_module_version": "1.2.0",
          "state": {
            "_model_module": "@jupyter-widgets/base",
            "_model_module_version": "1.2.0",
            "_model_name": "LayoutModel",
            "_view_count": null,
            "_view_module": "@jupyter-widgets/base",
            "_view_module_version": "1.2.0",
            "_view_name": "LayoutView",
            "align_content": null,
            "align_items": null,
            "align_self": null,
            "border": null,
            "bottom": null,
            "display": null,
            "flex": null,
            "flex_flow": null,
            "grid_area": null,
            "grid_auto_columns": null,
            "grid_auto_flow": null,
            "grid_auto_rows": null,
            "grid_column": null,
            "grid_gap": null,
            "grid_row": null,
            "grid_template_areas": null,
            "grid_template_columns": null,
            "grid_template_rows": null,
            "height": null,
            "justify_content": null,
            "justify_items": null,
            "left": null,
            "margin": null,
            "max_height": null,
            "max_width": null,
            "min_height": null,
            "min_width": null,
            "object_fit": null,
            "object_position": null,
            "order": null,
            "overflow": null,
            "overflow_x": null,
            "overflow_y": null,
            "padding": null,
            "right": null,
            "top": null,
            "visibility": null,
            "width": null
          }
        },
        "48dd6d0090ce4ac790e90b7f6112a11a": {
          "model_module": "@jupyter-widgets/controls",
          "model_name": "DescriptionStyleModel",
          "model_module_version": "1.5.0",
          "state": {
            "_model_module": "@jupyter-widgets/controls",
            "_model_module_version": "1.5.0",
            "_model_name": "DescriptionStyleModel",
            "_view_count": null,
            "_view_module": "@jupyter-widgets/base",
            "_view_module_version": "1.2.0",
            "_view_name": "StyleView",
            "description_width": ""
          }
        },
        "ace6dbcefac44ebab6e3d0963116ce1c": {
          "model_module": "@jupyter-widgets/base",
          "model_name": "LayoutModel",
          "model_module_version": "1.2.0",
          "state": {
            "_model_module": "@jupyter-widgets/base",
            "_model_module_version": "1.2.0",
            "_model_name": "LayoutModel",
            "_view_count": null,
            "_view_module": "@jupyter-widgets/base",
            "_view_module_version": "1.2.0",
            "_view_name": "LayoutView",
            "align_content": null,
            "align_items": null,
            "align_self": null,
            "border": null,
            "bottom": null,
            "display": null,
            "flex": null,
            "flex_flow": null,
            "grid_area": null,
            "grid_auto_columns": null,
            "grid_auto_flow": null,
            "grid_auto_rows": null,
            "grid_column": null,
            "grid_gap": null,
            "grid_row": null,
            "grid_template_areas": null,
            "grid_template_columns": null,
            "grid_template_rows": null,
            "height": null,
            "justify_content": null,
            "justify_items": null,
            "left": null,
            "margin": null,
            "max_height": null,
            "max_width": null,
            "min_height": null,
            "min_width": null,
            "object_fit": null,
            "object_position": null,
            "order": null,
            "overflow": null,
            "overflow_x": null,
            "overflow_y": null,
            "padding": null,
            "right": null,
            "top": null,
            "visibility": null,
            "width": null
          }
        },
        "7b79bf2876db43beabf13c3a614714e2": {
          "model_module": "@jupyter-widgets/controls",
          "model_name": "ProgressStyleModel",
          "model_module_version": "1.5.0",
          "state": {
            "_model_module": "@jupyter-widgets/controls",
            "_model_module_version": "1.5.0",
            "_model_name": "ProgressStyleModel",
            "_view_count": null,
            "_view_module": "@jupyter-widgets/base",
            "_view_module_version": "1.2.0",
            "_view_name": "StyleView",
            "bar_color": null,
            "description_width": ""
          }
        },
        "4ad361dd2abd46daa0a8e94c204976e1": {
          "model_module": "@jupyter-widgets/base",
          "model_name": "LayoutModel",
          "model_module_version": "1.2.0",
          "state": {
            "_model_module": "@jupyter-widgets/base",
            "_model_module_version": "1.2.0",
            "_model_name": "LayoutModel",
            "_view_count": null,
            "_view_module": "@jupyter-widgets/base",
            "_view_module_version": "1.2.0",
            "_view_name": "LayoutView",
            "align_content": null,
            "align_items": null,
            "align_self": null,
            "border": null,
            "bottom": null,
            "display": null,
            "flex": null,
            "flex_flow": null,
            "grid_area": null,
            "grid_auto_columns": null,
            "grid_auto_flow": null,
            "grid_auto_rows": null,
            "grid_column": null,
            "grid_gap": null,
            "grid_row": null,
            "grid_template_areas": null,
            "grid_template_columns": null,
            "grid_template_rows": null,
            "height": null,
            "justify_content": null,
            "justify_items": null,
            "left": null,
            "margin": null,
            "max_height": null,
            "max_width": null,
            "min_height": null,
            "min_width": null,
            "object_fit": null,
            "object_position": null,
            "order": null,
            "overflow": null,
            "overflow_x": null,
            "overflow_y": null,
            "padding": null,
            "right": null,
            "top": null,
            "visibility": null,
            "width": null
          }
        },
        "17aa1ad410f146f38c38ea5ef8a8c549": {
          "model_module": "@jupyter-widgets/controls",
          "model_name": "DescriptionStyleModel",
          "model_module_version": "1.5.0",
          "state": {
            "_model_module": "@jupyter-widgets/controls",
            "_model_module_version": "1.5.0",
            "_model_name": "DescriptionStyleModel",
            "_view_count": null,
            "_view_module": "@jupyter-widgets/base",
            "_view_module_version": "1.2.0",
            "_view_name": "StyleView",
            "description_width": ""
          }
        },
        "8499cfa0ee844beb8cd3586fcb5d8763": {
          "model_module": "@jupyter-widgets/controls",
          "model_name": "HBoxModel",
          "model_module_version": "1.5.0",
          "state": {
            "_dom_classes": [],
            "_model_module": "@jupyter-widgets/controls",
            "_model_module_version": "1.5.0",
            "_model_name": "HBoxModel",
            "_view_count": null,
            "_view_module": "@jupyter-widgets/controls",
            "_view_module_version": "1.5.0",
            "_view_name": "HBoxView",
            "box_style": "",
            "children": [
              "IPY_MODEL_430eb64a2e9247dcb6b99d75366e8462",
              "IPY_MODEL_c8ef2c94a11943dba7bcf02ff33d8561",
              "IPY_MODEL_26efb484659e440989ba33cd33c7721e"
            ],
            "layout": "IPY_MODEL_f22f1c9d905f4276b68f5043034f8547"
          }
        },
        "430eb64a2e9247dcb6b99d75366e8462": {
          "model_module": "@jupyter-widgets/controls",
          "model_name": "HTMLModel",
          "model_module_version": "1.5.0",
          "state": {
            "_dom_classes": [],
            "_model_module": "@jupyter-widgets/controls",
            "_model_module_version": "1.5.0",
            "_model_name": "HTMLModel",
            "_view_count": null,
            "_view_module": "@jupyter-widgets/controls",
            "_view_module_version": "1.5.0",
            "_view_name": "HTMLView",
            "description": "",
            "description_tooltip": null,
            "layout": "IPY_MODEL_45cd27c64b11420eb0f23cb26f08a559",
            "placeholder": "​",
            "style": "IPY_MODEL_1a7189298ca54695aa0e9782c48d1dca",
            "value": "Testing DataLoader 0: 100%"
          }
        },
        "c8ef2c94a11943dba7bcf02ff33d8561": {
          "model_module": "@jupyter-widgets/controls",
          "model_name": "FloatProgressModel",
          "model_module_version": "1.5.0",
          "state": {
            "_dom_classes": [],
            "_model_module": "@jupyter-widgets/controls",
            "_model_module_version": "1.5.0",
            "_model_name": "FloatProgressModel",
            "_view_count": null,
            "_view_module": "@jupyter-widgets/controls",
            "_view_module_version": "1.5.0",
            "_view_name": "ProgressView",
            "bar_style": "success",
            "description": "",
            "description_tooltip": null,
            "layout": "IPY_MODEL_b3862161445b4a678d72a7d9b60946ee",
            "max": 78,
            "min": 0,
            "orientation": "horizontal",
            "style": "IPY_MODEL_a493fe94e9ff46ecbad3baa10cbdd8d2",
            "value": 78
          }
        },
        "26efb484659e440989ba33cd33c7721e": {
          "model_module": "@jupyter-widgets/controls",
          "model_name": "HTMLModel",
          "model_module_version": "1.5.0",
          "state": {
            "_dom_classes": [],
            "_model_module": "@jupyter-widgets/controls",
            "_model_module_version": "1.5.0",
            "_model_name": "HTMLModel",
            "_view_count": null,
            "_view_module": "@jupyter-widgets/controls",
            "_view_module_version": "1.5.0",
            "_view_name": "HTMLView",
            "description": "",
            "description_tooltip": null,
            "layout": "IPY_MODEL_1241ea8a73da4f7dbfcf62a8ee0b796f",
            "placeholder": "​",
            "style": "IPY_MODEL_fabc1734c2f648b795ad25467c8afa59",
            "value": " 78/78 [00:14&lt;00:00,  5.39it/s]"
          }
        },
        "f22f1c9d905f4276b68f5043034f8547": {
          "model_module": "@jupyter-widgets/base",
          "model_name": "LayoutModel",
          "model_module_version": "1.2.0",
          "state": {
            "_model_module": "@jupyter-widgets/base",
            "_model_module_version": "1.2.0",
            "_model_name": "LayoutModel",
            "_view_count": null,
            "_view_module": "@jupyter-widgets/base",
            "_view_module_version": "1.2.0",
            "_view_name": "LayoutView",
            "align_content": null,
            "align_items": null,
            "align_self": null,
            "border": null,
            "bottom": null,
            "display": "inline-flex",
            "flex": null,
            "flex_flow": "row wrap",
            "grid_area": null,
            "grid_auto_columns": null,
            "grid_auto_flow": null,
            "grid_auto_rows": null,
            "grid_column": null,
            "grid_gap": null,
            "grid_row": null,
            "grid_template_areas": null,
            "grid_template_columns": null,
            "grid_template_rows": null,
            "height": null,
            "justify_content": null,
            "justify_items": null,
            "left": null,
            "margin": null,
            "max_height": null,
            "max_width": null,
            "min_height": null,
            "min_width": null,
            "object_fit": null,
            "object_position": null,
            "order": null,
            "overflow": null,
            "overflow_x": null,
            "overflow_y": null,
            "padding": null,
            "right": null,
            "top": null,
            "visibility": null,
            "width": "100%"
          }
        },
        "45cd27c64b11420eb0f23cb26f08a559": {
          "model_module": "@jupyter-widgets/base",
          "model_name": "LayoutModel",
          "model_module_version": "1.2.0",
          "state": {
            "_model_module": "@jupyter-widgets/base",
            "_model_module_version": "1.2.0",
            "_model_name": "LayoutModel",
            "_view_count": null,
            "_view_module": "@jupyter-widgets/base",
            "_view_module_version": "1.2.0",
            "_view_name": "LayoutView",
            "align_content": null,
            "align_items": null,
            "align_self": null,
            "border": null,
            "bottom": null,
            "display": null,
            "flex": null,
            "flex_flow": null,
            "grid_area": null,
            "grid_auto_columns": null,
            "grid_auto_flow": null,
            "grid_auto_rows": null,
            "grid_column": null,
            "grid_gap": null,
            "grid_row": null,
            "grid_template_areas": null,
            "grid_template_columns": null,
            "grid_template_rows": null,
            "height": null,
            "justify_content": null,
            "justify_items": null,
            "left": null,
            "margin": null,
            "max_height": null,
            "max_width": null,
            "min_height": null,
            "min_width": null,
            "object_fit": null,
            "object_position": null,
            "order": null,
            "overflow": null,
            "overflow_x": null,
            "overflow_y": null,
            "padding": null,
            "right": null,
            "top": null,
            "visibility": null,
            "width": null
          }
        },
        "1a7189298ca54695aa0e9782c48d1dca": {
          "model_module": "@jupyter-widgets/controls",
          "model_name": "DescriptionStyleModel",
          "model_module_version": "1.5.0",
          "state": {
            "_model_module": "@jupyter-widgets/controls",
            "_model_module_version": "1.5.0",
            "_model_name": "DescriptionStyleModel",
            "_view_count": null,
            "_view_module": "@jupyter-widgets/base",
            "_view_module_version": "1.2.0",
            "_view_name": "StyleView",
            "description_width": ""
          }
        },
        "b3862161445b4a678d72a7d9b60946ee": {
          "model_module": "@jupyter-widgets/base",
          "model_name": "LayoutModel",
          "model_module_version": "1.2.0",
          "state": {
            "_model_module": "@jupyter-widgets/base",
            "_model_module_version": "1.2.0",
            "_model_name": "LayoutModel",
            "_view_count": null,
            "_view_module": "@jupyter-widgets/base",
            "_view_module_version": "1.2.0",
            "_view_name": "LayoutView",
            "align_content": null,
            "align_items": null,
            "align_self": null,
            "border": null,
            "bottom": null,
            "display": null,
            "flex": "2",
            "flex_flow": null,
            "grid_area": null,
            "grid_auto_columns": null,
            "grid_auto_flow": null,
            "grid_auto_rows": null,
            "grid_column": null,
            "grid_gap": null,
            "grid_row": null,
            "grid_template_areas": null,
            "grid_template_columns": null,
            "grid_template_rows": null,
            "height": null,
            "justify_content": null,
            "justify_items": null,
            "left": null,
            "margin": null,
            "max_height": null,
            "max_width": null,
            "min_height": null,
            "min_width": null,
            "object_fit": null,
            "object_position": null,
            "order": null,
            "overflow": null,
            "overflow_x": null,
            "overflow_y": null,
            "padding": null,
            "right": null,
            "top": null,
            "visibility": null,
            "width": null
          }
        },
        "a493fe94e9ff46ecbad3baa10cbdd8d2": {
          "model_module": "@jupyter-widgets/controls",
          "model_name": "ProgressStyleModel",
          "model_module_version": "1.5.0",
          "state": {
            "_model_module": "@jupyter-widgets/controls",
            "_model_module_version": "1.5.0",
            "_model_name": "ProgressStyleModel",
            "_view_count": null,
            "_view_module": "@jupyter-widgets/base",
            "_view_module_version": "1.2.0",
            "_view_name": "StyleView",
            "bar_color": null,
            "description_width": ""
          }
        },
        "1241ea8a73da4f7dbfcf62a8ee0b796f": {
          "model_module": "@jupyter-widgets/base",
          "model_name": "LayoutModel",
          "model_module_version": "1.2.0",
          "state": {
            "_model_module": "@jupyter-widgets/base",
            "_model_module_version": "1.2.0",
            "_model_name": "LayoutModel",
            "_view_count": null,
            "_view_module": "@jupyter-widgets/base",
            "_view_module_version": "1.2.0",
            "_view_name": "LayoutView",
            "align_content": null,
            "align_items": null,
            "align_self": null,
            "border": null,
            "bottom": null,
            "display": null,
            "flex": null,
            "flex_flow": null,
            "grid_area": null,
            "grid_auto_columns": null,
            "grid_auto_flow": null,
            "grid_auto_rows": null,
            "grid_column": null,
            "grid_gap": null,
            "grid_row": null,
            "grid_template_areas": null,
            "grid_template_columns": null,
            "grid_template_rows": null,
            "height": null,
            "justify_content": null,
            "justify_items": null,
            "left": null,
            "margin": null,
            "max_height": null,
            "max_width": null,
            "min_height": null,
            "min_width": null,
            "object_fit": null,
            "object_position": null,
            "order": null,
            "overflow": null,
            "overflow_x": null,
            "overflow_y": null,
            "padding": null,
            "right": null,
            "top": null,
            "visibility": null,
            "width": null
          }
        },
        "fabc1734c2f648b795ad25467c8afa59": {
          "model_module": "@jupyter-widgets/controls",
          "model_name": "DescriptionStyleModel",
          "model_module_version": "1.5.0",
          "state": {
            "_model_module": "@jupyter-widgets/controls",
            "_model_module_version": "1.5.0",
            "_model_name": "DescriptionStyleModel",
            "_view_count": null,
            "_view_module": "@jupyter-widgets/base",
            "_view_module_version": "1.2.0",
            "_view_name": "StyleView",
            "description_width": ""
          }
        },
        "937541af1ab54644a081002a16661190": {
          "model_module": "@jupyter-widgets/controls",
          "model_name": "HBoxModel",
          "model_module_version": "1.5.0",
          "state": {
            "_dom_classes": [],
            "_model_module": "@jupyter-widgets/controls",
            "_model_module_version": "1.5.0",
            "_model_name": "HBoxModel",
            "_view_count": null,
            "_view_module": "@jupyter-widgets/controls",
            "_view_module_version": "1.5.0",
            "_view_name": "HBoxView",
            "box_style": "",
            "children": [
              "IPY_MODEL_bf5468e1dacb454bad0e5e7e1ea4bf7a",
              "IPY_MODEL_20f5f1cf890d47cfb5a0efeb40d794c1",
              "IPY_MODEL_4058380c13b042f395ee27b5a5c0dd0c"
            ],
            "layout": "IPY_MODEL_40fc5a28d398403f876a5fd3e7ed7ec7"
          }
        },
        "bf5468e1dacb454bad0e5e7e1ea4bf7a": {
          "model_module": "@jupyter-widgets/controls",
          "model_name": "HTMLModel",
          "model_module_version": "1.5.0",
          "state": {
            "_dom_classes": [],
            "_model_module": "@jupyter-widgets/controls",
            "_model_module_version": "1.5.0",
            "_model_name": "HTMLModel",
            "_view_count": null,
            "_view_module": "@jupyter-widgets/controls",
            "_view_module_version": "1.5.0",
            "_view_name": "HTMLView",
            "description": "",
            "description_tooltip": null,
            "layout": "IPY_MODEL_f73c00e06b6847dc88f2bb5b9d45dbab",
            "placeholder": "​",
            "style": "IPY_MODEL_09a034a4cd024c4e810bd89318331e10",
            "value": "Testing DataLoader 0: 100%"
          }
        },
        "20f5f1cf890d47cfb5a0efeb40d794c1": {
          "model_module": "@jupyter-widgets/controls",
          "model_name": "FloatProgressModel",
          "model_module_version": "1.5.0",
          "state": {
            "_dom_classes": [],
            "_model_module": "@jupyter-widgets/controls",
            "_model_module_version": "1.5.0",
            "_model_name": "FloatProgressModel",
            "_view_count": null,
            "_view_module": "@jupyter-widgets/controls",
            "_view_module_version": "1.5.0",
            "_view_name": "ProgressView",
            "bar_style": "success",
            "description": "",
            "description_tooltip": null,
            "layout": "IPY_MODEL_16be4241d9a44192acc86fbb5657ad52",
            "max": 125,
            "min": 0,
            "orientation": "horizontal",
            "style": "IPY_MODEL_cb0f353646bc41128f8af3ba1a88c0c0",
            "value": 125
          }
        },
        "4058380c13b042f395ee27b5a5c0dd0c": {
          "model_module": "@jupyter-widgets/controls",
          "model_name": "HTMLModel",
          "model_module_version": "1.5.0",
          "state": {
            "_dom_classes": [],
            "_model_module": "@jupyter-widgets/controls",
            "_model_module_version": "1.5.0",
            "_model_name": "HTMLModel",
            "_view_count": null,
            "_view_module": "@jupyter-widgets/controls",
            "_view_module_version": "1.5.0",
            "_view_name": "HTMLView",
            "description": "",
            "description_tooltip": null,
            "layout": "IPY_MODEL_f30214a669c9408da33e096f0f0ad8d2",
            "placeholder": "​",
            "style": "IPY_MODEL_32cc6584f3854623a0be7e69d83462c9",
            "value": " 125/125 [00:05&lt;00:00, 23.27it/s]"
          }
        },
        "40fc5a28d398403f876a5fd3e7ed7ec7": {
          "model_module": "@jupyter-widgets/base",
          "model_name": "LayoutModel",
          "model_module_version": "1.2.0",
          "state": {
            "_model_module": "@jupyter-widgets/base",
            "_model_module_version": "1.2.0",
            "_model_name": "LayoutModel",
            "_view_count": null,
            "_view_module": "@jupyter-widgets/base",
            "_view_module_version": "1.2.0",
            "_view_name": "LayoutView",
            "align_content": null,
            "align_items": null,
            "align_self": null,
            "border": null,
            "bottom": null,
            "display": "inline-flex",
            "flex": null,
            "flex_flow": "row wrap",
            "grid_area": null,
            "grid_auto_columns": null,
            "grid_auto_flow": null,
            "grid_auto_rows": null,
            "grid_column": null,
            "grid_gap": null,
            "grid_row": null,
            "grid_template_areas": null,
            "grid_template_columns": null,
            "grid_template_rows": null,
            "height": null,
            "justify_content": null,
            "justify_items": null,
            "left": null,
            "margin": null,
            "max_height": null,
            "max_width": null,
            "min_height": null,
            "min_width": null,
            "object_fit": null,
            "object_position": null,
            "order": null,
            "overflow": null,
            "overflow_x": null,
            "overflow_y": null,
            "padding": null,
            "right": null,
            "top": null,
            "visibility": null,
            "width": "100%"
          }
        },
        "f73c00e06b6847dc88f2bb5b9d45dbab": {
          "model_module": "@jupyter-widgets/base",
          "model_name": "LayoutModel",
          "model_module_version": "1.2.0",
          "state": {
            "_model_module": "@jupyter-widgets/base",
            "_model_module_version": "1.2.0",
            "_model_name": "LayoutModel",
            "_view_count": null,
            "_view_module": "@jupyter-widgets/base",
            "_view_module_version": "1.2.0",
            "_view_name": "LayoutView",
            "align_content": null,
            "align_items": null,
            "align_self": null,
            "border": null,
            "bottom": null,
            "display": null,
            "flex": null,
            "flex_flow": null,
            "grid_area": null,
            "grid_auto_columns": null,
            "grid_auto_flow": null,
            "grid_auto_rows": null,
            "grid_column": null,
            "grid_gap": null,
            "grid_row": null,
            "grid_template_areas": null,
            "grid_template_columns": null,
            "grid_template_rows": null,
            "height": null,
            "justify_content": null,
            "justify_items": null,
            "left": null,
            "margin": null,
            "max_height": null,
            "max_width": null,
            "min_height": null,
            "min_width": null,
            "object_fit": null,
            "object_position": null,
            "order": null,
            "overflow": null,
            "overflow_x": null,
            "overflow_y": null,
            "padding": null,
            "right": null,
            "top": null,
            "visibility": null,
            "width": null
          }
        },
        "09a034a4cd024c4e810bd89318331e10": {
          "model_module": "@jupyter-widgets/controls",
          "model_name": "DescriptionStyleModel",
          "model_module_version": "1.5.0",
          "state": {
            "_model_module": "@jupyter-widgets/controls",
            "_model_module_version": "1.5.0",
            "_model_name": "DescriptionStyleModel",
            "_view_count": null,
            "_view_module": "@jupyter-widgets/base",
            "_view_module_version": "1.2.0",
            "_view_name": "StyleView",
            "description_width": ""
          }
        },
        "16be4241d9a44192acc86fbb5657ad52": {
          "model_module": "@jupyter-widgets/base",
          "model_name": "LayoutModel",
          "model_module_version": "1.2.0",
          "state": {
            "_model_module": "@jupyter-widgets/base",
            "_model_module_version": "1.2.0",
            "_model_name": "LayoutModel",
            "_view_count": null,
            "_view_module": "@jupyter-widgets/base",
            "_view_module_version": "1.2.0",
            "_view_name": "LayoutView",
            "align_content": null,
            "align_items": null,
            "align_self": null,
            "border": null,
            "bottom": null,
            "display": null,
            "flex": "2",
            "flex_flow": null,
            "grid_area": null,
            "grid_auto_columns": null,
            "grid_auto_flow": null,
            "grid_auto_rows": null,
            "grid_column": null,
            "grid_gap": null,
            "grid_row": null,
            "grid_template_areas": null,
            "grid_template_columns": null,
            "grid_template_rows": null,
            "height": null,
            "justify_content": null,
            "justify_items": null,
            "left": null,
            "margin": null,
            "max_height": null,
            "max_width": null,
            "min_height": null,
            "min_width": null,
            "object_fit": null,
            "object_position": null,
            "order": null,
            "overflow": null,
            "overflow_x": null,
            "overflow_y": null,
            "padding": null,
            "right": null,
            "top": null,
            "visibility": null,
            "width": null
          }
        },
        "cb0f353646bc41128f8af3ba1a88c0c0": {
          "model_module": "@jupyter-widgets/controls",
          "model_name": "ProgressStyleModel",
          "model_module_version": "1.5.0",
          "state": {
            "_model_module": "@jupyter-widgets/controls",
            "_model_module_version": "1.5.0",
            "_model_name": "ProgressStyleModel",
            "_view_count": null,
            "_view_module": "@jupyter-widgets/base",
            "_view_module_version": "1.2.0",
            "_view_name": "StyleView",
            "bar_color": null,
            "description_width": ""
          }
        },
        "f30214a669c9408da33e096f0f0ad8d2": {
          "model_module": "@jupyter-widgets/base",
          "model_name": "LayoutModel",
          "model_module_version": "1.2.0",
          "state": {
            "_model_module": "@jupyter-widgets/base",
            "_model_module_version": "1.2.0",
            "_model_name": "LayoutModel",
            "_view_count": null,
            "_view_module": "@jupyter-widgets/base",
            "_view_module_version": "1.2.0",
            "_view_name": "LayoutView",
            "align_content": null,
            "align_items": null,
            "align_self": null,
            "border": null,
            "bottom": null,
            "display": null,
            "flex": null,
            "flex_flow": null,
            "grid_area": null,
            "grid_auto_columns": null,
            "grid_auto_flow": null,
            "grid_auto_rows": null,
            "grid_column": null,
            "grid_gap": null,
            "grid_row": null,
            "grid_template_areas": null,
            "grid_template_columns": null,
            "grid_template_rows": null,
            "height": null,
            "justify_content": null,
            "justify_items": null,
            "left": null,
            "margin": null,
            "max_height": null,
            "max_width": null,
            "min_height": null,
            "min_width": null,
            "object_fit": null,
            "object_position": null,
            "order": null,
            "overflow": null,
            "overflow_x": null,
            "overflow_y": null,
            "padding": null,
            "right": null,
            "top": null,
            "visibility": null,
            "width": null
          }
        },
        "32cc6584f3854623a0be7e69d83462c9": {
          "model_module": "@jupyter-widgets/controls",
          "model_name": "DescriptionStyleModel",
          "model_module_version": "1.5.0",
          "state": {
            "_model_module": "@jupyter-widgets/controls",
            "_model_module_version": "1.5.0",
            "_model_name": "DescriptionStyleModel",
            "_view_count": null,
            "_view_module": "@jupyter-widgets/base",
            "_view_module_version": "1.2.0",
            "_view_name": "StyleView",
            "description_width": ""
          }
        }
      }
    }
  },
  "cells": [
    {
      "cell_type": "markdown",
      "metadata": {
        "id": "view-in-github",
        "colab_type": "text"
      },
      "source": [
        "<a href=\"https://colab.research.google.com/github/pkraison/Initializ/blob/master/SSL.ipynb\" target=\"_parent\"><img src=\"https://colab.research.google.com/assets/colab-badge.svg\" alt=\"Open In Colab\"/></a>"
      ]
    },
    {
      "cell_type": "code",
      "execution_count": 14,
      "metadata": {
        "id": "4_h0HpJ-xCaI"
      },
      "outputs": [],
      "source": [
        "## Standard libraries\n",
        "import os\n",
        "from copy import deepcopy\n",
        "\n",
        "## Imports for plotting\n",
        "import matplotlib.pyplot as plt\n",
        "plt.set_cmap('cividis')\n",
        "%matplotlib inline\n",
        "from IPython.display import set_matplotlib_formats\n",
        "set_matplotlib_formats('svg', 'pdf') # For export\n",
        "import matplotlib\n",
        "matplotlib.rcParams['lines.linewidth'] = 2.0\n",
        "import seaborn as sns\n",
        "sns.set()\n",
        "\n",
        "## tqdm for loading bars\n",
        "from tqdm.notebook import tqdm"
      ]
    },
    {
      "cell_type": "code",
      "source": [
        "## PyTorch\n",
        "import torch\n",
        "import torch.nn as nn\n",
        "import torch.nn.functional as F\n",
        "import torch.utils.data as data\n",
        "import torch.optim as optim\n",
        "\n",
        "## Torchvision\n",
        "import torchvision\n",
        "from torchvision.datasets import STL10\n",
        "from torchvision import transforms\n",
        "\n",
        "# PyTorch Lightning\n",
        "#try:\n",
        "import pytorch_lightning as pl\n",
        "#except ModuleNotFoundError: # Google Colab does not have PyTorch Lightning installed by default. Hence, we do it here if necessary\n",
        "#    !pip install --quiet pytorch-lightning>=1.4\n",
        "#    import pytorch_lightning as pl\n",
        "from pytorch_lightning.callbacks import LearningRateMonitor, ModelCheckpoint"
      ],
      "metadata": {
        "id": "Yt6JWi5EHvru"
      },
      "execution_count": 15,
      "outputs": []
    },
    {
      "cell_type": "code",
      "source": [
        "# Import tensorboard\n",
        "%load_ext tensorboard\n",
        "\n",
        "# Path to the folder where the datasets are/should be downloaded (e.g. CIFAR10)\n",
        "DATASET_PATH = \"../data\"\n",
        "# Path to the folder where the pretrained models are saved\n",
        "CHECKPOINT_PATH = \"../saved_models/tutorial17\"\n",
        "# In this notebook, we use data loaders with heavier computational processing. It is recommended to use as many\n",
        "# workers as possible in a data loader, which corresponds to the number of CPU cores\n",
        "NUM_WORKERS = os.cpu_count()\n",
        "\n",
        "# Setting the seed\n",
        "pl.seed_everything(42)\n",
        "\n",
        "# Ensure that all operations are deterministic on GPU (if used) for reproducibility\n",
        "torch.backends.cudnn.deterministic = True\n",
        "torch.backends.cudnn.benchmark = False\n",
        "\n",
        "device = torch.device(\"cuda:0\") if torch.cuda.is_available() else torch.device(\"cpu\")\n",
        "print(\"Device:\", device)\n",
        "print(\"Number of workers:\", NUM_WORKERS)"
      ],
      "metadata": {
        "colab": {
          "base_uri": "https://localhost:8080/"
        },
        "id": "PdW--QN-JY0N",
        "outputId": "654f548f-93b8-4d01-8426-d41fa76e5ecd"
      },
      "execution_count": 16,
      "outputs": [
        {
          "output_type": "stream",
          "name": "stderr",
          "text": [
            "INFO:pytorch_lightning.utilities.seed:Global seed set to 42\n"
          ]
        },
        {
          "output_type": "stream",
          "name": "stdout",
          "text": [
            "The tensorboard extension is already loaded. To reload it, use:\n",
            "  %reload_ext tensorboard\n",
            "Device: cuda:0\n",
            "Number of workers: 2\n"
          ]
        }
      ]
    },
    {
      "cell_type": "code",
      "source": [
        "import urllib.request\n",
        "from urllib.error import HTTPError\n",
        "# Github URL where saved models are stored for this tutorial\n",
        "base_url = \"https://raw.githubusercontent.com/phlippe/saved_models/main/tutorial17/\"\n",
        "# Files to download\n",
        "pretrained_files = [\"SimCLR.ckpt\", \"ResNet.ckpt\",\n",
        "                    \"tensorboards/SimCLR/events.out.tfevents.SimCLR\",\n",
        "                    \"tensorboards/classification/ResNet/events.out.tfevents.ResNet\"]\n",
        "pretrained_files += [f\"LogisticRegression_{size}.ckpt\" for size in [10, 20, 50, 100, 200, 500]]\n",
        "# Create checkpoint path if it doesn't exist yet\n",
        "os.makedirs(CHECKPOINT_PATH, exist_ok=True)\n",
        "\n",
        "# For each file, check whether it already exists. If not, try downloading it.\n",
        "for file_name in pretrained_files:\n",
        "    file_path = os.path.join(CHECKPOINT_PATH, file_name)\n",
        "    if \"/\" in file_name:\n",
        "        os.makedirs(file_path.rsplit(\"/\",1)[0], exist_ok=True)\n",
        "    if not os.path.isfile(file_path):\n",
        "        file_url = base_url + file_name\n",
        "        print(f\"Downloading {file_url}...\")\n",
        "        try:\n",
        "            urllib.request.urlretrieve(file_url, file_path)\n",
        "        except HTTPError as e:\n",
        "            print(\"Something went wrong. Please try to download the file from the GDrive folder, or contact the author with the full output including the following error:\\n\", e)\n"
      ],
      "metadata": {
        "colab": {
          "base_uri": "https://localhost:8080/"
        },
        "id": "guJ3A7AbJatd",
        "outputId": "f4bed947-26ca-416f-a731-b03f604a83a4"
      },
      "execution_count": 17,
      "outputs": [
        {
          "output_type": "stream",
          "name": "stdout",
          "text": [
            "Downloading https://raw.githubusercontent.com/phlippe/saved_models/main/tutorial17/SimCLR.ckpt...\n",
            "Downloading https://raw.githubusercontent.com/phlippe/saved_models/main/tutorial17/ResNet.ckpt...\n",
            "Downloading https://raw.githubusercontent.com/phlippe/saved_models/main/tutorial17/tensorboards/SimCLR/events.out.tfevents.SimCLR...\n",
            "Downloading https://raw.githubusercontent.com/phlippe/saved_models/main/tutorial17/tensorboards/classification/ResNet/events.out.tfevents.ResNet...\n",
            "Downloading https://raw.githubusercontent.com/phlippe/saved_models/main/tutorial17/LogisticRegression_10.ckpt...\n",
            "Downloading https://raw.githubusercontent.com/phlippe/saved_models/main/tutorial17/LogisticRegression_20.ckpt...\n",
            "Downloading https://raw.githubusercontent.com/phlippe/saved_models/main/tutorial17/LogisticRegression_50.ckpt...\n",
            "Downloading https://raw.githubusercontent.com/phlippe/saved_models/main/tutorial17/LogisticRegression_100.ckpt...\n",
            "Downloading https://raw.githubusercontent.com/phlippe/saved_models/main/tutorial17/LogisticRegression_200.ckpt...\n",
            "Downloading https://raw.githubusercontent.com/phlippe/saved_models/main/tutorial17/LogisticRegression_500.ckpt...\n"
          ]
        }
      ]
    },
    {
      "cell_type": "code",
      "source": [
        "class ContrastiveTransformations(object):\n",
        "\n",
        "    def __init__(self, base_transforms, n_views=2):\n",
        "        self.base_transforms = base_transforms\n",
        "        self.n_views = n_views\n",
        "\n",
        "    def __call__(self, x):\n",
        "        return [self.base_transforms(x) for i in range(self.n_views)]"
      ],
      "metadata": {
        "id": "PhOp25HPJqRb"
      },
      "execution_count": 18,
      "outputs": []
    },
    {
      "cell_type": "code",
      "source": [
        "contrast_transforms = transforms.Compose([transforms.RandomHorizontalFlip(),\n",
        "                                          transforms.RandomResizedCrop(size=96),\n",
        "                                          transforms.RandomApply([\n",
        "                                              transforms.ColorJitter(brightness=0.5,\n",
        "                                                                     contrast=0.5,\n",
        "                                                                     saturation=0.5,\n",
        "                                                                     hue=0.1)\n",
        "                                          ], p=0.8),\n",
        "                                          transforms.RandomGrayscale(p=0.2),\n",
        "                                          transforms.GaussianBlur(kernel_size=9),\n",
        "                                          transforms.ToTensor(),\n",
        "                                          transforms.Normalize((0.5,), (0.5,))\n",
        "                                         ])"
      ],
      "metadata": {
        "id": "5sSLsbCvKe6O"
      },
      "execution_count": 19,
      "outputs": []
    },
    {
      "cell_type": "code",
      "source": [
        "unlabeled_data = STL10(root=DATASET_PATH, split='unlabeled', download=True,\n",
        "                       transform=ContrastiveTransformations(contrast_transforms, n_views=2))\n",
        "train_data_contrast = STL10(root=DATASET_PATH, split='train', download=True,\n",
        "                            transform=ContrastiveTransformations(contrast_transforms, n_views=2))"
      ],
      "metadata": {
        "colab": {
          "base_uri": "https://localhost:8080/",
          "height": 121,
          "referenced_widgets": [
            "e4a401b138fd41b0b100ac7f6f36f689",
            "7c398b03911d45e1ac4cb5003df5e039",
            "cd208b4a7cd4417b9552e8717ddcbd89",
            "ede04835698b4d51beb711d978d145a2",
            "4668a6008b684680a4d60fbe6ac03d57",
            "b076dfafec0d46c9bf77cd2838bda570",
            "0d57d0b15950461992db11be241c44dc",
            "4940dad798474c368f13fb40a41f19fa",
            "cdb3d2636fab433e862aabfa66282227",
            "3b055fb0fa054aa5ad72984fc12e16e4",
            "e7a1d7c6c5c14331a42b3f8dc8a2f8c3"
          ]
        },
        "id": "WUXXClupjF2Z",
        "outputId": "daf8696f-0f6a-4641-ee27-084c1ce16358"
      },
      "execution_count": 20,
      "outputs": [
        {
          "output_type": "stream",
          "name": "stdout",
          "text": [
            "Downloading http://ai.stanford.edu/~acoates/stl10/stl10_binary.tar.gz to ../data/stl10_binary.tar.gz\n"
          ]
        },
        {
          "output_type": "display_data",
          "data": {
            "text/plain": [
              "  0%|          | 0/2640397119 [00:00<?, ?it/s]"
            ],
            "application/vnd.jupyter.widget-view+json": {
              "version_major": 2,
              "version_minor": 0,
              "model_id": "e4a401b138fd41b0b100ac7f6f36f689"
            }
          },
          "metadata": {}
        },
        {
          "output_type": "stream",
          "name": "stdout",
          "text": [
            "Extracting ../data/stl10_binary.tar.gz to ../data\n",
            "Files already downloaded and verified\n"
          ]
        }
      ]
    },
    {
      "cell_type": "code",
      "source": [
        "pl.seed_everything(42)\n",
        "NUM_IMAGES = 6\n",
        "imgs = torch.stack([img for idx in range(NUM_IMAGES) for img in unlabeled_data[idx][0]], dim=0)\n",
        "img_grid = torchvision.utils.make_grid(imgs, nrow=6, normalize=True, pad_value=0.9)\n",
        "img_grid = img_grid.permute(1, 2, 0)\n",
        "\n",
        "plt.figure(figsize=(10,5))\n",
        "plt.title('Augmented image examples of the STL10 dataset')\n",
        "plt.imshow(img_grid)\n",
        "plt.axis('off')\n",
        "plt.show()\n",
        "plt.close()\n",
        "\n"
      ],
      "metadata": {
        "colab": {
          "base_uri": "https://localhost:8080/",
          "height": 328
        },
        "id": "v0C4-gaNj-6n",
        "outputId": "e29c1912-c909-45c4-8b18-1bb090d0fea9"
      },
      "execution_count": 21,
      "outputs": [
        {
          "output_type": "stream",
          "name": "stderr",
          "text": [
            "INFO:pytorch_lightning.utilities.seed:Global seed set to 42\n"
          ]
        },
        {
          "output_type": "display_data",
          "data": {
            "text/plain": [
              "<Figure size 720x360 with 1 Axes>"
            ],
            "image/svg+xml": "<?xml version=\"1.0\" encoding=\"utf-8\" standalone=\"no\"?>\n<!DOCTYPE svg PUBLIC \"-//W3C//DTD SVG 1.1//EN\"\n  \"http://www.w3.org/Graphics/SVG/1.1/DTD/svg11.dtd\">\n<!-- Created with matplotlib (https://matplotlib.org/) -->\n<svg height=\"216.779142pt\" version=\"1.1\" viewBox=\"0 0 572.4 216.779142\" width=\"572.4pt\" xmlns=\"http://www.w3.org/2000/svg\" xmlns:xlink=\"http://www.w3.org/1999/xlink\">\n <defs>\n  <style type=\"text/css\">\n*{stroke-linecap:butt;stroke-linejoin:round;}\n  </style>\n </defs>\n <g id=\"figure_1\">\n  <g id=\"patch_1\">\n   <path d=\"M 0 216.779142 \nL 572.4 216.779142 \nL 572.4 0 \nL 0 0 \nz\n\" style=\"fill:#ffffff;\"/>\n  </g>\n  <g id=\"axes_1\">\n   <g clip-path=\"url(#pe3866449a7)\">\n    <image height=\"188\" id=\"image6cd17f8fcd\" transform=\"scale(1 -1)translate(0 -188)\" width=\"558\" x=\"7.2\" xlink:href=\"data:image/png;base64,\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\" y=\"-21.579142\"/>\n   </g>\n   <g id=\"text_1\">\n    <!-- Augmented image examples of the STL10 dataset -->\n    <defs>\n     <path d=\"M 34.1875 63.1875 \nL 20.796875 26.90625 \nL 47.609375 26.90625 \nz\nM 28.609375 72.90625 \nL 39.796875 72.90625 \nL 67.578125 0 \nL 57.328125 0 \nL 50.6875 18.703125 \nL 17.828125 18.703125 \nL 11.1875 0 \nL 0.78125 0 \nz\n\" id=\"DejaVuSans-65\"/>\n     <path d=\"M 8.5 21.578125 \nL 8.5 54.6875 \nL 17.484375 54.6875 \nL 17.484375 21.921875 \nQ 17.484375 14.15625 20.5 10.265625 \nQ 23.53125 6.390625 29.59375 6.390625 \nQ 36.859375 6.390625 41.078125 11.03125 \nQ 45.3125 15.671875 45.3125 23.6875 \nL 45.3125 54.6875 \nL 54.296875 54.6875 \nL 54.296875 0 \nL 45.3125 0 \nL 45.3125 8.40625 \nQ 42.046875 3.421875 37.71875 1 \nQ 33.40625 -1.421875 27.6875 -1.421875 \nQ 18.265625 -1.421875 13.375 4.4375 \nQ 8.5 10.296875 8.5 21.578125 \nz\nM 31.109375 56 \nz\n\" id=\"DejaVuSans-117\"/>\n     <path d=\"M 45.40625 27.984375 \nQ 45.40625 37.75 41.375 43.109375 \nQ 37.359375 48.484375 30.078125 48.484375 \nQ 22.859375 48.484375 18.828125 43.109375 \nQ 14.796875 37.75 14.796875 27.984375 \nQ 14.796875 18.265625 18.828125 12.890625 \nQ 22.859375 7.515625 30.078125 7.515625 \nQ 37.359375 7.515625 41.375 12.890625 \nQ 45.40625 18.265625 45.40625 27.984375 \nz\nM 54.390625 6.78125 \nQ 54.390625 -7.171875 48.1875 -13.984375 \nQ 42 -20.796875 29.203125 -20.796875 \nQ 24.46875 -20.796875 20.265625 -20.09375 \nQ 16.0625 -19.390625 12.109375 -17.921875 \nL 12.109375 -9.1875 \nQ 16.0625 -11.328125 19.921875 -12.34375 \nQ 23.78125 -13.375 27.78125 -13.375 \nQ 36.625 -13.375 41.015625 -8.765625 \nQ 45.40625 -4.15625 45.40625 5.171875 \nL 45.40625 9.625 \nQ 42.625 4.78125 38.28125 2.390625 \nQ 33.9375 0 27.875 0 \nQ 17.828125 0 11.671875 7.65625 \nQ 5.515625 15.328125 5.515625 27.984375 \nQ 5.515625 40.671875 11.671875 48.328125 \nQ 17.828125 56 27.875 56 \nQ 33.9375 56 38.28125 53.609375 \nQ 42.625 51.21875 45.40625 46.390625 \nL 45.40625 54.6875 \nL 54.390625 54.6875 \nz\n\" id=\"DejaVuSans-103\"/>\n     <path d=\"M 52 44.1875 \nQ 55.375 50.25 60.0625 53.125 \nQ 64.75 56 71.09375 56 \nQ 79.640625 56 84.28125 50.015625 \nQ 88.921875 44.046875 88.921875 33.015625 \nL 88.921875 0 \nL 79.890625 0 \nL 79.890625 32.71875 \nQ 79.890625 40.578125 77.09375 44.375 \nQ 74.3125 48.1875 68.609375 48.1875 \nQ 61.625 48.1875 57.5625 43.546875 \nQ 53.515625 38.921875 53.515625 30.90625 \nL 53.515625 0 \nL 44.484375 0 \nL 44.484375 32.71875 \nQ 44.484375 40.625 41.703125 44.40625 \nQ 38.921875 48.1875 33.109375 48.1875 \nQ 26.21875 48.1875 22.15625 43.53125 \nQ 18.109375 38.875 18.109375 30.90625 \nL 18.109375 0 \nL 9.078125 0 \nL 9.078125 54.6875 \nL 18.109375 54.6875 \nL 18.109375 46.1875 \nQ 21.1875 51.21875 25.484375 53.609375 \nQ 29.78125 56 35.6875 56 \nQ 41.65625 56 45.828125 52.96875 \nQ 50 49.953125 52 44.1875 \nz\n\" id=\"DejaVuSans-109\"/>\n     <path d=\"M 56.203125 29.59375 \nL 56.203125 25.203125 \nL 14.890625 25.203125 \nQ 15.484375 15.921875 20.484375 11.0625 \nQ 25.484375 6.203125 34.421875 6.203125 \nQ 39.59375 6.203125 44.453125 7.46875 \nQ 49.3125 8.734375 54.109375 11.28125 \nL 54.109375 2.78125 \nQ 49.265625 0.734375 44.1875 -0.34375 \nQ 39.109375 -1.421875 33.890625 -1.421875 \nQ 20.796875 -1.421875 13.15625 6.1875 \nQ 5.515625 13.8125 5.515625 26.8125 \nQ 5.515625 40.234375 12.765625 48.109375 \nQ 20.015625 56 32.328125 56 \nQ 43.359375 56 49.78125 48.890625 \nQ 56.203125 41.796875 56.203125 29.59375 \nz\nM 47.21875 32.234375 \nQ 47.125 39.59375 43.09375 43.984375 \nQ 39.0625 48.390625 32.421875 48.390625 \nQ 24.90625 48.390625 20.390625 44.140625 \nQ 15.875 39.890625 15.1875 32.171875 \nz\n\" id=\"DejaVuSans-101\"/>\n     <path d=\"M 54.890625 33.015625 \nL 54.890625 0 \nL 45.90625 0 \nL 45.90625 32.71875 \nQ 45.90625 40.484375 42.875 44.328125 \nQ 39.84375 48.1875 33.796875 48.1875 \nQ 26.515625 48.1875 22.3125 43.546875 \nQ 18.109375 38.921875 18.109375 30.90625 \nL 18.109375 0 \nL 9.078125 0 \nL 9.078125 54.6875 \nL 18.109375 54.6875 \nL 18.109375 46.1875 \nQ 21.34375 51.125 25.703125 53.5625 \nQ 30.078125 56 35.796875 56 \nQ 45.21875 56 50.046875 50.171875 \nQ 54.890625 44.34375 54.890625 33.015625 \nz\n\" id=\"DejaVuSans-110\"/>\n     <path d=\"M 18.3125 70.21875 \nL 18.3125 54.6875 \nL 36.8125 54.6875 \nL 36.8125 47.703125 \nL 18.3125 47.703125 \nL 18.3125 18.015625 \nQ 18.3125 11.328125 20.140625 9.421875 \nQ 21.96875 7.515625 27.59375 7.515625 \nL 36.8125 7.515625 \nL 36.8125 0 \nL 27.59375 0 \nQ 17.1875 0 13.234375 3.875 \nQ 9.28125 7.765625 9.28125 18.015625 \nL 9.28125 47.703125 \nL 2.6875 47.703125 \nL 2.6875 54.6875 \nL 9.28125 54.6875 \nL 9.28125 70.21875 \nz\n\" id=\"DejaVuSans-116\"/>\n     <path d=\"M 45.40625 46.390625 \nL 45.40625 75.984375 \nL 54.390625 75.984375 \nL 54.390625 0 \nL 45.40625 0 \nL 45.40625 8.203125 \nQ 42.578125 3.328125 38.25 0.953125 \nQ 33.9375 -1.421875 27.875 -1.421875 \nQ 17.96875 -1.421875 11.734375 6.484375 \nQ 5.515625 14.40625 5.515625 27.296875 \nQ 5.515625 40.1875 11.734375 48.09375 \nQ 17.96875 56 27.875 56 \nQ 33.9375 56 38.25 53.625 \nQ 42.578125 51.265625 45.40625 46.390625 \nz\nM 14.796875 27.296875 \nQ 14.796875 17.390625 18.875 11.75 \nQ 22.953125 6.109375 30.078125 6.109375 \nQ 37.203125 6.109375 41.296875 11.75 \nQ 45.40625 17.390625 45.40625 27.296875 \nQ 45.40625 37.203125 41.296875 42.84375 \nQ 37.203125 48.484375 30.078125 48.484375 \nQ 22.953125 48.484375 18.875 42.84375 \nQ 14.796875 37.203125 14.796875 27.296875 \nz\n\" id=\"DejaVuSans-100\"/>\n     <path id=\"DejaVuSans-32\"/>\n     <path d=\"M 9.421875 54.6875 \nL 18.40625 54.6875 \nL 18.40625 0 \nL 9.421875 0 \nz\nM 9.421875 75.984375 \nL 18.40625 75.984375 \nL 18.40625 64.59375 \nL 9.421875 64.59375 \nz\n\" id=\"DejaVuSans-105\"/>\n     <path d=\"M 34.28125 27.484375 \nQ 23.390625 27.484375 19.1875 25 \nQ 14.984375 22.515625 14.984375 16.5 \nQ 14.984375 11.71875 18.140625 8.90625 \nQ 21.296875 6.109375 26.703125 6.109375 \nQ 34.1875 6.109375 38.703125 11.40625 \nQ 43.21875 16.703125 43.21875 25.484375 \nL 43.21875 27.484375 \nz\nM 52.203125 31.203125 \nL 52.203125 0 \nL 43.21875 0 \nL 43.21875 8.296875 \nQ 40.140625 3.328125 35.546875 0.953125 \nQ 30.953125 -1.421875 24.3125 -1.421875 \nQ 15.921875 -1.421875 10.953125 3.296875 \nQ 6 8.015625 6 15.921875 \nQ 6 25.140625 12.171875 29.828125 \nQ 18.359375 34.515625 30.609375 34.515625 \nL 43.21875 34.515625 \nL 43.21875 35.40625 \nQ 43.21875 41.609375 39.140625 45 \nQ 35.0625 48.390625 27.6875 48.390625 \nQ 23 48.390625 18.546875 47.265625 \nQ 14.109375 46.140625 10.015625 43.890625 \nL 10.015625 52.203125 \nQ 14.9375 54.109375 19.578125 55.046875 \nQ 24.21875 56 28.609375 56 \nQ 40.484375 56 46.34375 49.84375 \nQ 52.203125 43.703125 52.203125 31.203125 \nz\n\" id=\"DejaVuSans-97\"/>\n     <path d=\"M 54.890625 54.6875 \nL 35.109375 28.078125 \nL 55.90625 0 \nL 45.3125 0 \nL 29.390625 21.484375 \nL 13.484375 0 \nL 2.875 0 \nL 24.125 28.609375 \nL 4.6875 54.6875 \nL 15.28125 54.6875 \nL 29.78125 35.203125 \nL 44.28125 54.6875 \nz\n\" id=\"DejaVuSans-120\"/>\n     <path d=\"M 18.109375 8.203125 \nL 18.109375 -20.796875 \nL 9.078125 -20.796875 \nL 9.078125 54.6875 \nL 18.109375 54.6875 \nL 18.109375 46.390625 \nQ 20.953125 51.265625 25.265625 53.625 \nQ 29.59375 56 35.59375 56 \nQ 45.5625 56 51.78125 48.09375 \nQ 58.015625 40.1875 58.015625 27.296875 \nQ 58.015625 14.40625 51.78125 6.484375 \nQ 45.5625 -1.421875 35.59375 -1.421875 \nQ 29.59375 -1.421875 25.265625 0.953125 \nQ 20.953125 3.328125 18.109375 8.203125 \nz\nM 48.6875 27.296875 \nQ 48.6875 37.203125 44.609375 42.84375 \nQ 40.53125 48.484375 33.40625 48.484375 \nQ 26.265625 48.484375 22.1875 42.84375 \nQ 18.109375 37.203125 18.109375 27.296875 \nQ 18.109375 17.390625 22.1875 11.75 \nQ 26.265625 6.109375 33.40625 6.109375 \nQ 40.53125 6.109375 44.609375 11.75 \nQ 48.6875 17.390625 48.6875 27.296875 \nz\n\" id=\"DejaVuSans-112\"/>\n     <path d=\"M 9.421875 75.984375 \nL 18.40625 75.984375 \nL 18.40625 0 \nL 9.421875 0 \nz\n\" id=\"DejaVuSans-108\"/>\n     <path d=\"M 44.28125 53.078125 \nL 44.28125 44.578125 \nQ 40.484375 46.53125 36.375 47.5 \nQ 32.28125 48.484375 27.875 48.484375 \nQ 21.1875 48.484375 17.84375 46.4375 \nQ 14.5 44.390625 14.5 40.28125 \nQ 14.5 37.15625 16.890625 35.375 \nQ 19.28125 33.59375 26.515625 31.984375 \nL 29.59375 31.296875 \nQ 39.15625 29.25 43.1875 25.515625 \nQ 47.21875 21.78125 47.21875 15.09375 \nQ 47.21875 7.46875 41.1875 3.015625 \nQ 35.15625 -1.421875 24.609375 -1.421875 \nQ 20.21875 -1.421875 15.453125 -0.5625 \nQ 10.6875 0.296875 5.421875 2 \nL 5.421875 11.28125 \nQ 10.40625 8.6875 15.234375 7.390625 \nQ 20.0625 6.109375 24.8125 6.109375 \nQ 31.15625 6.109375 34.5625 8.28125 \nQ 37.984375 10.453125 37.984375 14.40625 \nQ 37.984375 18.0625 35.515625 20.015625 \nQ 33.0625 21.96875 24.703125 23.78125 \nL 21.578125 24.515625 \nQ 13.234375 26.265625 9.515625 29.90625 \nQ 5.8125 33.546875 5.8125 39.890625 \nQ 5.8125 47.609375 11.28125 51.796875 \nQ 16.75 56 26.8125 56 \nQ 31.78125 56 36.171875 55.265625 \nQ 40.578125 54.546875 44.28125 53.078125 \nz\n\" id=\"DejaVuSans-115\"/>\n     <path d=\"M 30.609375 48.390625 \nQ 23.390625 48.390625 19.1875 42.75 \nQ 14.984375 37.109375 14.984375 27.296875 \nQ 14.984375 17.484375 19.15625 11.84375 \nQ 23.34375 6.203125 30.609375 6.203125 \nQ 37.796875 6.203125 41.984375 11.859375 \nQ 46.1875 17.53125 46.1875 27.296875 \nQ 46.1875 37.015625 41.984375 42.703125 \nQ 37.796875 48.390625 30.609375 48.390625 \nz\nM 30.609375 56 \nQ 42.328125 56 49.015625 48.375 \nQ 55.71875 40.765625 55.71875 27.296875 \nQ 55.71875 13.875 49.015625 6.21875 \nQ 42.328125 -1.421875 30.609375 -1.421875 \nQ 18.84375 -1.421875 12.171875 6.21875 \nQ 5.515625 13.875 5.515625 27.296875 \nQ 5.515625 40.765625 12.171875 48.375 \nQ 18.84375 56 30.609375 56 \nz\n\" id=\"DejaVuSans-111\"/>\n     <path d=\"M 37.109375 75.984375 \nL 37.109375 68.5 \nL 28.515625 68.5 \nQ 23.6875 68.5 21.796875 66.546875 \nQ 19.921875 64.59375 19.921875 59.515625 \nL 19.921875 54.6875 \nL 34.71875 54.6875 \nL 34.71875 47.703125 \nL 19.921875 47.703125 \nL 19.921875 0 \nL 10.890625 0 \nL 10.890625 47.703125 \nL 2.296875 47.703125 \nL 2.296875 54.6875 \nL 10.890625 54.6875 \nL 10.890625 58.5 \nQ 10.890625 67.625 15.140625 71.796875 \nQ 19.390625 75.984375 28.609375 75.984375 \nz\n\" id=\"DejaVuSans-102\"/>\n     <path d=\"M 54.890625 33.015625 \nL 54.890625 0 \nL 45.90625 0 \nL 45.90625 32.71875 \nQ 45.90625 40.484375 42.875 44.328125 \nQ 39.84375 48.1875 33.796875 48.1875 \nQ 26.515625 48.1875 22.3125 43.546875 \nQ 18.109375 38.921875 18.109375 30.90625 \nL 18.109375 0 \nL 9.078125 0 \nL 9.078125 75.984375 \nL 18.109375 75.984375 \nL 18.109375 46.1875 \nQ 21.34375 51.125 25.703125 53.5625 \nQ 30.078125 56 35.796875 56 \nQ 45.21875 56 50.046875 50.171875 \nQ 54.890625 44.34375 54.890625 33.015625 \nz\n\" id=\"DejaVuSans-104\"/>\n     <path d=\"M 53.515625 70.515625 \nL 53.515625 60.890625 \nQ 47.90625 63.578125 42.921875 64.890625 \nQ 37.9375 66.21875 33.296875 66.21875 \nQ 25.25 66.21875 20.875 63.09375 \nQ 16.5 59.96875 16.5 54.203125 \nQ 16.5 49.359375 19.40625 46.890625 \nQ 22.3125 44.4375 30.421875 42.921875 \nL 36.375 41.703125 \nQ 47.40625 39.59375 52.65625 34.296875 \nQ 57.90625 29 57.90625 20.125 \nQ 57.90625 9.515625 50.796875 4.046875 \nQ 43.703125 -1.421875 29.984375 -1.421875 \nQ 24.8125 -1.421875 18.96875 -0.25 \nQ 13.140625 0.921875 6.890625 3.21875 \nL 6.890625 13.375 \nQ 12.890625 10.015625 18.65625 8.296875 \nQ 24.421875 6.59375 29.984375 6.59375 \nQ 38.421875 6.59375 43.015625 9.90625 \nQ 47.609375 13.234375 47.609375 19.390625 \nQ 47.609375 24.75 44.3125 27.78125 \nQ 41.015625 30.8125 33.5 32.328125 \nL 27.484375 33.5 \nQ 16.453125 35.6875 11.515625 40.375 \nQ 6.59375 45.0625 6.59375 53.421875 \nQ 6.59375 63.09375 13.40625 68.65625 \nQ 20.21875 74.21875 32.171875 74.21875 \nQ 37.3125 74.21875 42.625 73.28125 \nQ 47.953125 72.359375 53.515625 70.515625 \nz\n\" id=\"DejaVuSans-83\"/>\n     <path d=\"M -0.296875 72.90625 \nL 61.375 72.90625 \nL 61.375 64.59375 \nL 35.5 64.59375 \nL 35.5 0 \nL 25.59375 0 \nL 25.59375 64.59375 \nL -0.296875 64.59375 \nz\n\" id=\"DejaVuSans-84\"/>\n     <path d=\"M 9.8125 72.90625 \nL 19.671875 72.90625 \nL 19.671875 8.296875 \nL 55.171875 8.296875 \nL 55.171875 0 \nL 9.8125 0 \nz\n\" id=\"DejaVuSans-76\"/>\n     <path d=\"M 12.40625 8.296875 \nL 28.515625 8.296875 \nL 28.515625 63.921875 \nL 10.984375 60.40625 \nL 10.984375 69.390625 \nL 28.421875 72.90625 \nL 38.28125 72.90625 \nL 38.28125 8.296875 \nL 54.390625 8.296875 \nL 54.390625 0 \nL 12.40625 0 \nz\n\" id=\"DejaVuSans-49\"/>\n     <path d=\"M 31.78125 66.40625 \nQ 24.171875 66.40625 20.328125 58.90625 \nQ 16.5 51.421875 16.5 36.375 \nQ 16.5 21.390625 20.328125 13.890625 \nQ 24.171875 6.390625 31.78125 6.390625 \nQ 39.453125 6.390625 43.28125 13.890625 \nQ 47.125 21.390625 47.125 36.375 \nQ 47.125 51.421875 43.28125 58.90625 \nQ 39.453125 66.40625 31.78125 66.40625 \nz\nM 31.78125 74.21875 \nQ 44.046875 74.21875 50.515625 64.515625 \nQ 56.984375 54.828125 56.984375 36.375 \nQ 56.984375 17.96875 50.515625 8.265625 \nQ 44.046875 -1.421875 31.78125 -1.421875 \nQ 19.53125 -1.421875 13.0625 8.265625 \nQ 6.59375 17.96875 6.59375 36.375 \nQ 6.59375 54.828125 13.0625 64.515625 \nQ 19.53125 74.21875 31.78125 74.21875 \nz\n\" id=\"DejaVuSans-48\"/>\n    </defs>\n    <g style=\"fill:#262626;\" transform=\"translate(135.4425 16.318125)scale(0.12 -0.12)\">\n     <use xlink:href=\"#DejaVuSans-65\"/>\n     <use x=\"68.408203\" xlink:href=\"#DejaVuSans-117\"/>\n     <use x=\"131.787109\" xlink:href=\"#DejaVuSans-103\"/>\n     <use x=\"195.263672\" xlink:href=\"#DejaVuSans-109\"/>\n     <use x=\"292.675781\" xlink:href=\"#DejaVuSans-101\"/>\n     <use x=\"354.199219\" xlink:href=\"#DejaVuSans-110\"/>\n     <use x=\"417.578125\" xlink:href=\"#DejaVuSans-116\"/>\n     <use x=\"456.787109\" xlink:href=\"#DejaVuSans-101\"/>\n     <use x=\"518.310547\" xlink:href=\"#DejaVuSans-100\"/>\n     <use x=\"581.787109\" xlink:href=\"#DejaVuSans-32\"/>\n     <use x=\"613.574219\" xlink:href=\"#DejaVuSans-105\"/>\n     <use x=\"641.357422\" xlink:href=\"#DejaVuSans-109\"/>\n     <use x=\"738.769531\" xlink:href=\"#DejaVuSans-97\"/>\n     <use x=\"800.048828\" xlink:href=\"#DejaVuSans-103\"/>\n     <use x=\"863.525391\" xlink:href=\"#DejaVuSans-101\"/>\n     <use x=\"925.048828\" xlink:href=\"#DejaVuSans-32\"/>\n     <use x=\"956.835938\" xlink:href=\"#DejaVuSans-101\"/>\n     <use x=\"1016.609375\" xlink:href=\"#DejaVuSans-120\"/>\n     <use x=\"1075.789062\" xlink:href=\"#DejaVuSans-97\"/>\n     <use x=\"1137.068359\" xlink:href=\"#DejaVuSans-109\"/>\n     <use x=\"1234.480469\" xlink:href=\"#DejaVuSans-112\"/>\n     <use x=\"1297.957031\" xlink:href=\"#DejaVuSans-108\"/>\n     <use x=\"1325.740234\" xlink:href=\"#DejaVuSans-101\"/>\n     <use x=\"1387.263672\" xlink:href=\"#DejaVuSans-115\"/>\n     <use x=\"1439.363281\" xlink:href=\"#DejaVuSans-32\"/>\n     <use x=\"1471.150391\" xlink:href=\"#DejaVuSans-111\"/>\n     <use x=\"1532.332031\" xlink:href=\"#DejaVuSans-102\"/>\n     <use x=\"1567.537109\" xlink:href=\"#DejaVuSans-32\"/>\n     <use x=\"1599.324219\" xlink:href=\"#DejaVuSans-116\"/>\n     <use x=\"1638.533203\" xlink:href=\"#DejaVuSans-104\"/>\n     <use x=\"1701.912109\" xlink:href=\"#DejaVuSans-101\"/>\n     <use x=\"1763.435547\" xlink:href=\"#DejaVuSans-32\"/>\n     <use x=\"1795.222656\" xlink:href=\"#DejaVuSans-83\"/>\n     <use x=\"1858.699219\" xlink:href=\"#DejaVuSans-84\"/>\n     <use x=\"1919.783203\" xlink:href=\"#DejaVuSans-76\"/>\n     <use x=\"1975.496094\" xlink:href=\"#DejaVuSans-49\"/>\n     <use x=\"2039.119141\" xlink:href=\"#DejaVuSans-48\"/>\n     <use x=\"2102.742188\" xlink:href=\"#DejaVuSans-32\"/>\n     <use x=\"2134.529297\" xlink:href=\"#DejaVuSans-100\"/>\n     <use x=\"2198.005859\" xlink:href=\"#DejaVuSans-97\"/>\n     <use x=\"2259.285156\" xlink:href=\"#DejaVuSans-116\"/>\n     <use x=\"2298.494141\" xlink:href=\"#DejaVuSans-97\"/>\n     <use x=\"2359.773438\" xlink:href=\"#DejaVuSans-115\"/>\n     <use x=\"2411.873047\" xlink:href=\"#DejaVuSans-101\"/>\n     <use x=\"2473.396484\" xlink:href=\"#DejaVuSans-116\"/>\n    </g>\n   </g>\n  </g>\n </g>\n <defs>\n  <clipPath id=\"pe3866449a7\">\n   <rect height=\"187.261017\" width=\"558\" x=\"7.2\" y=\"22.318125\"/>\n  </clipPath>\n </defs>\n</svg>\n",
            "application/pdf": "[encoded data removed]"
          },
          "metadata": {}
        }
      ]
    },
    {
      "cell_type": "code",
      "source": [
        "class SimCLR(pl.LightningModule):\n",
        "\n",
        "    def __init__(self, hidden_dim, lr, temperature, weight_decay, max_epochs=500):\n",
        "        super().__init__()\n",
        "        self.save_hyperparameters()\n",
        "        assert self.hparams.temperature > 0.0, 'The temperature must be a positive float!'\n",
        "        # Base model f(.)\n",
        "        self.convnet = torchvision.models.resnet18(num_classes=4*hidden_dim)  # Output of last linear layer\n",
        "        # The MLP for g(.) consists of Linear->ReLU->Linear\n",
        "        self.convnet.fc = nn.Sequential(\n",
        "            self.convnet.fc,  # Linear(ResNet output, 4*hidden_dim)\n",
        "            nn.ReLU(inplace=True),\n",
        "            nn.Linear(4*hidden_dim, hidden_dim)\n",
        "        )\n",
        "\n",
        "    def configure_optimizers(self):\n",
        "        optimizer = optim.AdamW(self.parameters(),\n",
        "                                lr=self.hparams.lr,\n",
        "                                weight_decay=self.hparams.weight_decay)\n",
        "        lr_scheduler = optim.lr_scheduler.CosineAnnealingLR(optimizer,\n",
        "                                                            T_max=self.hparams.max_epochs,\n",
        "                                                            eta_min=self.hparams.lr/50)\n",
        "        return [optimizer], [lr_scheduler]\n",
        "\n",
        "    def info_nce_loss(self, batch, mode='train'):\n",
        "        imgs, _ = batch\n",
        "        imgs = torch.cat(imgs, dim=0)\n",
        "\n",
        "        # Encode all images\n",
        "        feats = self.convnet(imgs)\n",
        "        # Calculate cosine similarity\n",
        "        cos_sim = F.cosine_similarity(feats[:,None,:], feats[None,:,:], dim=-1)\n",
        "        # Mask out cosine similarity to itself\n",
        "        self_mask = torch.eye(cos_sim.shape[0], dtype=torch.bool, device=cos_sim.device)\n",
        "        cos_sim.masked_fill_(self_mask, -9e15)\n",
        "        # Find positive example -> batch_size//2 away from the original example\n",
        "        pos_mask = self_mask.roll(shifts=cos_sim.shape[0]//2, dims=0)\n",
        "        # InfoNCE loss\n",
        "        cos_sim = cos_sim / self.hparams.temperature\n",
        "        nll = -cos_sim[pos_mask] + torch.logsumexp(cos_sim, dim=-1)\n",
        "        nll = nll.mean()\n",
        "\n",
        "        # Logging loss\n",
        "        self.log(mode+'_loss', nll)\n",
        "        # Get ranking position of positive example\n",
        "        comb_sim = torch.cat([cos_sim[pos_mask][:,None],  # First position positive example\n",
        "                              cos_sim.masked_fill(pos_mask, -9e15)],\n",
        "                             dim=-1)\n",
        "        sim_argsort = comb_sim.argsort(dim=-1, descending=True).argmin(dim=-1)\n",
        "        # Logging ranking metrics\n",
        "        self.log(mode+'_acc_top1', (sim_argsort == 0).float().mean())\n",
        "        self.log(mode+'_acc_top5', (sim_argsort < 5).float().mean())\n",
        "        self.log(mode+'_acc_mean_pos', 1+sim_argsort.float().mean())\n",
        "\n",
        "        return nll\n",
        "\n",
        "    def training_step(self, batch, batch_idx):\n",
        "        return self.info_nce_loss(batch, mode='train')\n",
        "\n",
        "    def validation_step(self, batch, batch_idx):\n",
        "        self.info_nce_loss(batch, mode='val')"
      ],
      "metadata": {
        "id": "HdMccHyNoO0k"
      },
      "execution_count": 22,
      "outputs": []
    },
    {
      "cell_type": "code",
      "source": [
        "#import pytorch_lightning as pl\n",
        "#!pip install --quiet pytorch-lightning>=1.4\n"
      ],
      "metadata": {
        "id": "qiYZfvRFuGvF"
      },
      "execution_count": 23,
      "outputs": []
    },
    {
      "cell_type": "code",
      "source": [
        "def train_simclr(batch_size, max_epochs=500, **kwargs):\n",
        "    trainer = pl.Trainer(default_root_dir=os.path.join(CHECKPOINT_PATH, 'SimCLR'),\n",
        "                         accelerator=\"gpu\" if str(device).startswith(\"cuda\") else \"cpu\",\n",
        "                         devices=1,\n",
        "                         max_epochs=max_epochs,\n",
        "                         callbacks=[ModelCheckpoint(save_weights_only=True, mode='max', monitor='val_acc_top5'),\n",
        "                                    LearningRateMonitor('epoch')])\n",
        "    trainer.logger._default_hp_metric = None # Optional logging argument that we don't need\n",
        "\n",
        "    # Check whether pretrained model exists. If yes, load it and skip training\n",
        "    pretrained_filename = os.path.join(CHECKPOINT_PATH, 'SimCLR.ckpt')\n",
        "    if os.path.isfile(pretrained_filename):\n",
        "        print(f'Found pretrained model at {pretrained_filename}, loading...')\n",
        "        model = SimCLR.load_from_checkpoint(pretrained_filename) # Automatically loads the model with the saved hyperparameters\n",
        "    else:\n",
        "        train_loader = data.DataLoader(unlabeled_data, batch_size=batch_size, shuffle=True,\n",
        "                                       drop_last=True, pin_memory=True, num_workers=NUM_WORKERS)\n",
        "        val_loader = data.DataLoader(train_data_contrast, batch_size=batch_size, shuffle=False,\n",
        "                                     drop_last=False, pin_memory=True, num_workers=NUM_WORKERS)\n",
        "        pl.seed_everything(42) # To be reproducable\n",
        "        model = SimCLR(max_epochs=max_epochs, **kwargs)\n",
        "        trainer.fit(model, train_loader, val_loader)\n",
        "        model = SimCLR.load_from_checkpoint(trainer.checkpoint_callback.best_model_path) # Load best checkpoint after training\n",
        "\n",
        "    return model"
      ],
      "metadata": {
        "id": "-WAhSrdrtBPP"
      },
      "execution_count": 32,
      "outputs": []
    },
    {
      "cell_type": "code",
      "source": [
        "simclr_model = train_simclr(batch_size=256,\n",
        "                            hidden_dim=128,\n",
        "                            lr=5e-4,\n",
        "                            temperature=0.07,\n",
        "                            weight_decay=1e-4,\n",
        "                            max_epochs=500)"
      ],
      "metadata": {
        "colab": {
          "base_uri": "https://localhost:8080/"
        },
        "id": "zZGPny-ato5B",
        "outputId": "3602e82d-0f65-4c2a-ab39-47194db76008"
      },
      "execution_count": 33,
      "outputs": [
        {
          "output_type": "stream",
          "name": "stderr",
          "text": [
            "INFO:pytorch_lightning.utilities.rank_zero:GPU available: True (cuda), used: True\n",
            "INFO:pytorch_lightning.utilities.rank_zero:TPU available: False, using: 0 TPU cores\n",
            "INFO:pytorch_lightning.utilities.rank_zero:IPU available: False, using: 0 IPUs\n",
            "INFO:pytorch_lightning.utilities.rank_zero:HPU available: False, using: 0 HPUs\n"
          ]
        },
        {
          "output_type": "stream",
          "name": "stdout",
          "text": [
            "Found pretrained model at ../saved_models/tutorial17/SimCLR.ckpt, loading...\n"
          ]
        }
      ]
    },
    {
      "cell_type": "code",
      "source": [
        "!kill 309"
      ],
      "metadata": {
        "colab": {
          "base_uri": "https://localhost:8080/"
        },
        "id": "_1zixSZayf3D",
        "outputId": "7de7c756-5d3b-40e6-dc41-80be52359f46"
      },
      "execution_count": 34,
      "outputs": [
        {
          "output_type": "stream",
          "name": "stdout",
          "text": [
            "/bin/bash: line 0: kill: (309) - No such process\n"
          ]
        }
      ]
    },
    {
      "cell_type": "code",
      "source": [
        "#%tensorboard --logdir ../saved_models/tutorial17/tensorboards/SimCLR/"
      ],
      "metadata": {
        "id": "sYY2JmeuyATa"
      },
      "execution_count": 35,
      "outputs": []
    },
    {
      "cell_type": "code",
      "source": [
        "class LogisticRegression(pl.LightningModule):\n",
        "\n",
        "    def __init__(self, feature_dim, num_classes, lr, weight_decay, max_epochs=100):\n",
        "        super().__init__()\n",
        "        self.save_hyperparameters()\n",
        "        # Mapping from representation h to classes\n",
        "        self.model = nn.Linear(feature_dim, num_classes)\n",
        "\n",
        "    def configure_optimizers(self):\n",
        "        optimizer = optim.AdamW(self.parameters(),\n",
        "                                lr=self.hparams.lr,\n",
        "                                weight_decay=self.hparams.weight_decay)\n",
        "        lr_scheduler = optim.lr_scheduler.MultiStepLR(optimizer,\n",
        "                                                      milestones=[int(self.hparams.max_epochs*0.6),\n",
        "                                                                  int(self.hparams.max_epochs*0.8)],\n",
        "                                                      gamma=0.1)\n",
        "        return [optimizer], [lr_scheduler]\n",
        "\n",
        "    def _calculate_loss(self, batch, mode='train'):\n",
        "        feats, labels = batch\n",
        "        preds = self.model(feats)\n",
        "        loss = F.cross_entropy(preds, labels)\n",
        "        acc = (preds.argmax(dim=-1) == labels).float().mean()\n",
        "\n",
        "        self.log(mode + '_loss', loss)\n",
        "        self.log(mode + '_acc', acc)\n",
        "        return loss\n",
        "\n",
        "    def training_step(self, batch, batch_idx):\n",
        "        return self._calculate_loss(batch, mode='train')\n",
        "\n",
        "    def validation_step(self, batch, batch_idx):\n",
        "        self._calculate_loss(batch, mode='val')\n",
        "\n",
        "    def test_step(self, batch, batch_idx):\n",
        "        self._calculate_loss(batch, mode='test')"
      ],
      "metadata": {
        "id": "lU11A0PHwdd1"
      },
      "execution_count": 36,
      "outputs": []
    },
    {
      "cell_type": "code",
      "source": [
        "img_transforms = transforms.Compose([transforms.ToTensor(),\n",
        "                                     transforms.Normalize((0.5,), (0.5,))])\n",
        "\n",
        "train_img_data = STL10(root=DATASET_PATH, split='train', download=True,\n",
        "                       transform=img_transforms)\n",
        "test_img_data = STL10(root=DATASET_PATH, split='test', download=True,\n",
        "                      transform=img_transforms)\n",
        "\n",
        "print(\"Number of training examples:\", len(train_img_data))\n",
        "print(\"Number of test examples:\", len(test_img_data))"
      ],
      "metadata": {
        "colab": {
          "base_uri": "https://localhost:8080/"
        },
        "id": "-eRDmZJI0oZM",
        "outputId": "5ecd040e-04ea-4717-c8bb-96d104a92375"
      },
      "execution_count": 37,
      "outputs": [
        {
          "output_type": "stream",
          "name": "stdout",
          "text": [
            "Files already downloaded and verified\n",
            "Files already downloaded and verified\n",
            "Number of training examples: 5000\n",
            "Number of test examples: 8000\n"
          ]
        }
      ]
    },
    {
      "cell_type": "code",
      "source": [
        "@torch.no_grad()\n",
        "def prepare_data_features(model, dataset):\n",
        "    # Prepare model\n",
        "    network = deepcopy(model.convnet)\n",
        "    network.fc = nn.Identity()  # Removing projection head g(.)\n",
        "    network.eval()\n",
        "    network.to(device)\n",
        "\n",
        "    # Encode all images\n",
        "    data_loader = data.DataLoader(dataset, batch_size=64, num_workers=NUM_WORKERS, shuffle=False, drop_last=False)\n",
        "    feats, labels = [], []\n",
        "    for batch_imgs, batch_labels in tqdm(data_loader):\n",
        "        batch_imgs = batch_imgs.to(device)\n",
        "        batch_feats = network(batch_imgs)\n",
        "        feats.append(batch_feats.detach().cpu())\n",
        "        labels.append(batch_labels)\n",
        "\n",
        "    feats = torch.cat(feats, dim=0)\n",
        "    labels = torch.cat(labels, dim=0)\n",
        "\n",
        "    # Sort images by labels\n",
        "    labels, idxs = labels.sort()\n",
        "    feats = feats[idxs]\n",
        "\n",
        "    return data.TensorDataset(feats, labels)"
      ],
      "metadata": {
        "id": "wNl3oA3g0t_A"
      },
      "execution_count": 38,
      "outputs": []
    },
    {
      "cell_type": "code",
      "source": [
        "train_feats_simclr = prepare_data_features(simclr_model, train_img_data)\n",
        "test_feats_simclr = prepare_data_features(simclr_model, test_img_data)"
      ],
      "metadata": {
        "colab": {
          "base_uri": "https://localhost:8080/",
          "height": 81,
          "referenced_widgets": [
            "8106ebca4dc241148a62d6f2b0374557",
            "bebd6b6f89d14d24b1a4f1d2b5d073a7",
            "7190aeb4bb254a81a9e54be180b5fad5",
            "2fb1da9e05c64a72ad4001bb513dcf86",
            "6095d4e9fc514247afeac3b3348e6318",
            "a6ae500f2e934dad96a7ef35ed9f9762",
            "af12f7ec76b74bfdbed05b41bcc44a7d",
            "879ce6c1af6c4042a3a23f9944b2ac59",
            "dc7b3aa3657247b7902a172f4b513761",
            "5d460a5a5f3349caad17532359602b84",
            "078e8b1033ff4b6a8622467ce8b896ce",
            "d271b18a226e4c33b9686b49b4b7667c",
            "e8ae4bc46d974d5c86d79b17fa514a21",
            "fe5cdcf8e0d3424f98d7a2aa98e6757c",
            "91ab897007fb44698b081df58d7d4dfc",
            "7f278f48a4f44c53b9bfe5dce949e628",
            "cbbd6bd9c9d04ba3910a2b201b48b86b",
            "48dd6d0090ce4ac790e90b7f6112a11a",
            "ace6dbcefac44ebab6e3d0963116ce1c",
            "7b79bf2876db43beabf13c3a614714e2",
            "4ad361dd2abd46daa0a8e94c204976e1",
            "17aa1ad410f146f38c38ea5ef8a8c549"
          ]
        },
        "id": "ebuXbSl70173",
        "outputId": "00daa0fe-c2fd-4017-a844-671f9228b114"
      },
      "execution_count": 39,
      "outputs": [
        {
          "output_type": "display_data",
          "data": {
            "text/plain": [
              "  0%|          | 0/79 [00:00<?, ?it/s]"
            ],
            "application/vnd.jupyter.widget-view+json": {
              "version_major": 2,
              "version_minor": 0,
              "model_id": "8106ebca4dc241148a62d6f2b0374557"
            }
          },
          "metadata": {}
        },
        {
          "output_type": "display_data",
          "data": {
            "text/plain": [
              "  0%|          | 0/125 [00:00<?, ?it/s]"
            ],
            "application/vnd.jupyter.widget-view+json": {
              "version_major": 2,
              "version_minor": 0,
              "model_id": "d271b18a226e4c33b9686b49b4b7667c"
            }
          },
          "metadata": {}
        }
      ]
    },
    {
      "cell_type": "code",
      "source": [
        "def train_logreg(batch_size, train_feats_data, test_feats_data, model_suffix, max_epochs=100, **kwargs):\n",
        "    trainer = pl.Trainer(default_root_dir=os.path.join(CHECKPOINT_PATH, \"LogisticRegression\"),\n",
        "                         accelerator=\"gpu\" if str(device).startswith(\"cuda\") else \"cpu\",\n",
        "                         devices=1,\n",
        "                         max_epochs=max_epochs,\n",
        "                         callbacks=[ModelCheckpoint(save_weights_only=True, mode='max', monitor='val_acc'),\n",
        "                                    LearningRateMonitor(\"epoch\")],\n",
        "                         enable_progress_bar=False,\n",
        "                         check_val_every_n_epoch=10)\n",
        "    trainer.logger._default_hp_metric = None\n",
        "\n",
        "    # Data loaders\n",
        "    train_loader = data.DataLoader(train_feats_data, batch_size=batch_size, shuffle=True,\n",
        "                                   drop_last=False, pin_memory=True, num_workers=0)\n",
        "    test_loader = data.DataLoader(test_feats_data, batch_size=batch_size, shuffle=False,\n",
        "                                  drop_last=False, pin_memory=True, num_workers=0)\n",
        "\n",
        "    # Check whether pretrained model exists. If yes, load it and skip training\n",
        "    pretrained_filename = os.path.join(CHECKPOINT_PATH, f\"LogisticRegression_{model_suffix}.ckpt\")\n",
        "    if os.path.isfile(pretrained_filename):\n",
        "        print(f\"Found pretrained model at {pretrained_filename}, loading...\")\n",
        "        model = LogisticRegression.load_from_checkpoint(pretrained_filename)\n",
        "    else:\n",
        "        pl.seed_everything(42)  # To be reproducable\n",
        "        model = LogisticRegression(**kwargs)\n",
        "        trainer.fit(model, train_loader, test_loader)\n",
        "        model = LogisticRegression.load_from_checkpoint(trainer.checkpoint_callback.best_model_path)\n",
        "\n",
        "    # Test best model on train and validation set\n",
        "    train_result = trainer.test(model, train_loader, verbose=False)\n",
        "    test_result = trainer.test(model, test_loader, verbose=False)\n",
        "    result = {\"train\": train_result[0][\"test_acc\"], \"test\": test_result[0][\"test_acc\"]}\n",
        "\n",
        "    return model, result"
      ],
      "metadata": {
        "id": "jqaE_o2G07WC"
      },
      "execution_count": 40,
      "outputs": []
    },
    {
      "cell_type": "code",
      "source": [
        "def get_smaller_dataset(original_dataset, num_imgs_per_label):\n",
        "    new_dataset = data.TensorDataset(\n",
        "        *[t.unflatten(0, (10, -1))[:,:num_imgs_per_label].flatten(0, 1) for t in original_dataset.tensors]\n",
        "    )\n",
        "    return new_dataset\n"
      ],
      "metadata": {
        "id": "l_I1tLwJ1Fcs"
      },
      "execution_count": 41,
      "outputs": []
    },
    {
      "cell_type": "code",
      "source": [
        "results = {}\n",
        "for num_imgs_per_label in [10, 20, 50, 100, 200, 500]:\n",
        "    sub_train_set = get_smaller_dataset(train_feats_simclr, num_imgs_per_label)\n",
        "    _, small_set_results = train_logreg(batch_size=64,\n",
        "                                        train_feats_data=sub_train_set,\n",
        "                                        test_feats_data=test_feats_simclr,\n",
        "                                        model_suffix=num_imgs_per_label,\n",
        "                                        feature_dim=train_feats_simclr.tensors[0].shape[1],\n",
        "                                        num_classes=10,\n",
        "                                        lr=1e-3,\n",
        "                                        weight_decay=1e-3)\n",
        "    results[num_imgs_per_label] = small_set_results"
      ],
      "metadata": {
        "colab": {
          "base_uri": "https://localhost:8080/"
        },
        "id": "q0EeMXSv1Lk0",
        "outputId": "e00e3d7d-b51d-4f2e-b55c-334e88d3b929"
      },
      "execution_count": 42,
      "outputs": [
        {
          "output_type": "stream",
          "name": "stderr",
          "text": [
            "INFO:pytorch_lightning.utilities.rank_zero:GPU available: True (cuda), used: True\n",
            "INFO:pytorch_lightning.utilities.rank_zero:TPU available: False, using: 0 TPU cores\n",
            "INFO:pytorch_lightning.utilities.rank_zero:IPU available: False, using: 0 IPUs\n",
            "INFO:pytorch_lightning.utilities.rank_zero:HPU available: False, using: 0 HPUs\n",
            "WARNING:pytorch_lightning.loggers.tensorboard:Missing logger folder: ../saved_models/tutorial17/LogisticRegression/lightning_logs\n"
          ]
        },
        {
          "output_type": "stream",
          "name": "stdout",
          "text": [
            "Found pretrained model at ../saved_models/tutorial17/LogisticRegression_10.ckpt, loading...\n"
          ]
        },
        {
          "output_type": "stream",
          "name": "stderr",
          "text": [
            "INFO:pytorch_lightning.accelerators.cuda:LOCAL_RANK: 0 - CUDA_VISIBLE_DEVICES: [0]\n",
            "/usr/local/lib/python3.7/dist-packages/pytorch_lightning/trainer/connectors/data_connector.py:492: PossibleUserWarning: Your `test_dataloader`'s sampler has shuffling enabled, it is strongly recommended that you turn shuffling off for val/test/predict dataloaders.\n",
            "  category=PossibleUserWarning,\n",
            "INFO:pytorch_lightning.accelerators.cuda:LOCAL_RANK: 0 - CUDA_VISIBLE_DEVICES: [0]\n",
            "INFO:pytorch_lightning.utilities.rank_zero:GPU available: True (cuda), used: True\n",
            "INFO:pytorch_lightning.utilities.rank_zero:TPU available: False, using: 0 TPU cores\n",
            "INFO:pytorch_lightning.utilities.rank_zero:IPU available: False, using: 0 IPUs\n",
            "INFO:pytorch_lightning.utilities.rank_zero:HPU available: False, using: 0 HPUs\n"
          ]
        },
        {
          "output_type": "stream",
          "name": "stdout",
          "text": [
            "Found pretrained model at ../saved_models/tutorial17/LogisticRegression_20.ckpt, loading...\n"
          ]
        },
        {
          "output_type": "stream",
          "name": "stderr",
          "text": [
            "INFO:pytorch_lightning.accelerators.cuda:LOCAL_RANK: 0 - CUDA_VISIBLE_DEVICES: [0]\n",
            "INFO:pytorch_lightning.accelerators.cuda:LOCAL_RANK: 0 - CUDA_VISIBLE_DEVICES: [0]\n",
            "INFO:pytorch_lightning.utilities.rank_zero:GPU available: True (cuda), used: True\n",
            "INFO:pytorch_lightning.utilities.rank_zero:TPU available: False, using: 0 TPU cores\n",
            "INFO:pytorch_lightning.utilities.rank_zero:IPU available: False, using: 0 IPUs\n",
            "INFO:pytorch_lightning.utilities.rank_zero:HPU available: False, using: 0 HPUs\n"
          ]
        },
        {
          "output_type": "stream",
          "name": "stdout",
          "text": [
            "Found pretrained model at ../saved_models/tutorial17/LogisticRegression_50.ckpt, loading...\n"
          ]
        },
        {
          "output_type": "stream",
          "name": "stderr",
          "text": [
            "INFO:pytorch_lightning.accelerators.cuda:LOCAL_RANK: 0 - CUDA_VISIBLE_DEVICES: [0]\n",
            "INFO:pytorch_lightning.accelerators.cuda:LOCAL_RANK: 0 - CUDA_VISIBLE_DEVICES: [0]\n",
            "INFO:pytorch_lightning.utilities.rank_zero:GPU available: True (cuda), used: True\n",
            "INFO:pytorch_lightning.utilities.rank_zero:TPU available: False, using: 0 TPU cores\n",
            "INFO:pytorch_lightning.utilities.rank_zero:IPU available: False, using: 0 IPUs\n",
            "INFO:pytorch_lightning.utilities.rank_zero:HPU available: False, using: 0 HPUs\n"
          ]
        },
        {
          "output_type": "stream",
          "name": "stdout",
          "text": [
            "Found pretrained model at ../saved_models/tutorial17/LogisticRegression_100.ckpt, loading...\n"
          ]
        },
        {
          "output_type": "stream",
          "name": "stderr",
          "text": [
            "INFO:pytorch_lightning.accelerators.cuda:LOCAL_RANK: 0 - CUDA_VISIBLE_DEVICES: [0]\n",
            "INFO:pytorch_lightning.accelerators.cuda:LOCAL_RANK: 0 - CUDA_VISIBLE_DEVICES: [0]\n",
            "INFO:pytorch_lightning.utilities.rank_zero:GPU available: True (cuda), used: True\n",
            "INFO:pytorch_lightning.utilities.rank_zero:TPU available: False, using: 0 TPU cores\n",
            "INFO:pytorch_lightning.utilities.rank_zero:IPU available: False, using: 0 IPUs\n",
            "INFO:pytorch_lightning.utilities.rank_zero:HPU available: False, using: 0 HPUs\n"
          ]
        },
        {
          "output_type": "stream",
          "name": "stdout",
          "text": [
            "Found pretrained model at ../saved_models/tutorial17/LogisticRegression_200.ckpt, loading...\n"
          ]
        },
        {
          "output_type": "stream",
          "name": "stderr",
          "text": [
            "INFO:pytorch_lightning.accelerators.cuda:LOCAL_RANK: 0 - CUDA_VISIBLE_DEVICES: [0]\n",
            "INFO:pytorch_lightning.accelerators.cuda:LOCAL_RANK: 0 - CUDA_VISIBLE_DEVICES: [0]\n",
            "INFO:pytorch_lightning.utilities.rank_zero:GPU available: True (cuda), used: True\n",
            "INFO:pytorch_lightning.utilities.rank_zero:TPU available: False, using: 0 TPU cores\n",
            "INFO:pytorch_lightning.utilities.rank_zero:IPU available: False, using: 0 IPUs\n",
            "INFO:pytorch_lightning.utilities.rank_zero:HPU available: False, using: 0 HPUs\n"
          ]
        },
        {
          "output_type": "stream",
          "name": "stdout",
          "text": [
            "Found pretrained model at ../saved_models/tutorial17/LogisticRegression_500.ckpt, loading...\n"
          ]
        },
        {
          "output_type": "stream",
          "name": "stderr",
          "text": [
            "INFO:pytorch_lightning.accelerators.cuda:LOCAL_RANK: 0 - CUDA_VISIBLE_DEVICES: [0]\n",
            "INFO:pytorch_lightning.accelerators.cuda:LOCAL_RANK: 0 - CUDA_VISIBLE_DEVICES: [0]\n"
          ]
        }
      ]
    },
    {
      "cell_type": "code",
      "source": [
        "dataset_sizes = sorted([k for k in results])\n",
        "test_scores = [results[k][\"test\"] for k in dataset_sizes]\n",
        "\n",
        "fig = plt.figure(figsize=(6,4))\n",
        "plt.plot(dataset_sizes, test_scores, '--', color=\"#000\", marker=\"*\", markeredgecolor=\"#000\", markerfacecolor=\"y\", markersize=16)\n",
        "plt.xscale(\"log\")\n",
        "plt.xticks(dataset_sizes, labels=dataset_sizes)\n",
        "plt.title(\"STL10 classification over dataset size\", fontsize=14)\n",
        "plt.xlabel(\"Number of images per class\")\n",
        "plt.ylabel(\"Test accuracy\")\n",
        "plt.minorticks_off()\n",
        "plt.show()\n",
        "\n",
        "for k, score in zip(dataset_sizes, test_scores):\n",
        "    print(f'Test accuracy for {k:3d} images per label: {100*score:4.2f}%')"
      ],
      "metadata": {
        "colab": {
          "base_uri": "https://localhost:8080/",
          "height": 504
        },
        "id": "REz73Pyb1wWG",
        "outputId": "80037b41-9f3b-49f9-ab9e-9be871d4dfe6"
      },
      "execution_count": 43,
      "outputs": [
        {
          "output_type": "display_data",
          "data": {
            "text/plain": [
              "<Figure size 432x288 with 1 Axes>"
            ],
            "image/svg+xml": "<?xml version=\"1.0\" encoding=\"utf-8\" standalone=\"no\"?>\n<!DOCTYPE svg PUBLIC \"-//W3C//DTD SVG 1.1//EN\"\n  \"http://www.w3.org/Graphics/SVG/1.1/DTD/svg11.dtd\">\n<!-- Created with matplotlib (https://matplotlib.org/) -->\n<svg height=\"284.2375pt\" version=\"1.1\" viewBox=\"0 0 405.804688 284.2375\" width=\"405.804688pt\" xmlns=\"http://www.w3.org/2000/svg\" xmlns:xlink=\"http://www.w3.org/1999/xlink\">\n <defs>\n  <style type=\"text/css\">\n*{stroke-linecap:butt;stroke-linejoin:round;}\n  </style>\n </defs>\n <g id=\"figure_1\">\n  <g id=\"patch_1\">\n   <path d=\"M 0 284.2375 \nL 405.804688 284.2375 \nL 405.804688 0 \nL 0 0 \nz\n\" style=\"fill:#ffffff;\"/>\n  </g>\n  <g id=\"axes_1\">\n   <g id=\"patch_2\">\n    <path d=\"M 63.804688 241.277813 \nL 398.604688 241.277813 \nL 398.604688 23.837812 \nL 63.804688 23.837812 \nz\n\" style=\"fill:#eaeaf2;\"/>\n   </g>\n   <g id=\"matplotlib.axis_1\">\n    <g id=\"xtick_1\">\n     <g id=\"line2d_1\">\n      <path clip-path=\"url(#pcf77d4d781)\" d=\"M 79.022869 241.277813 \nL 79.022869 23.837812 \n\" style=\"fill:none;stroke:#ffffff;stroke-linecap:round;\"/>\n     </g>\n     <g id=\"text_1\">\n      <!-- 10 -->\n      <defs>\n       <path d=\"M 12.40625 8.296875 \nL 28.515625 8.296875 \nL 28.515625 63.921875 \nL 10.984375 60.40625 \nL 10.984375 69.390625 \nL 28.421875 72.90625 \nL 38.28125 72.90625 \nL 38.28125 8.296875 \nL 54.390625 8.296875 \nL 54.390625 0 \nL 12.40625 0 \nz\n\" id=\"DejaVuSans-49\"/>\n       <path d=\"M 31.78125 66.40625 \nQ 24.171875 66.40625 20.328125 58.90625 \nQ 16.5 51.421875 16.5 36.375 \nQ 16.5 21.390625 20.328125 13.890625 \nQ 24.171875 6.390625 31.78125 6.390625 \nQ 39.453125 6.390625 43.28125 13.890625 \nQ 47.125 21.390625 47.125 36.375 \nQ 47.125 51.421875 43.28125 58.90625 \nQ 39.453125 66.40625 31.78125 66.40625 \nz\nM 31.78125 74.21875 \nQ 44.046875 74.21875 50.515625 64.515625 \nQ 56.984375 54.828125 56.984375 36.375 \nQ 56.984375 17.96875 50.515625 8.265625 \nQ 44.046875 -1.421875 31.78125 -1.421875 \nQ 19.53125 -1.421875 13.0625 8.265625 \nQ 6.59375 17.96875 6.59375 36.375 \nQ 6.59375 54.828125 13.0625 64.515625 \nQ 19.53125 74.21875 31.78125 74.21875 \nz\n\" id=\"DejaVuSans-48\"/>\n      </defs>\n      <g style=\"fill:#262626;\" transform=\"translate(72.024119 259.136094)scale(0.11 -0.11)\">\n       <use xlink:href=\"#DejaVuSans-49\"/>\n       <use x=\"63.623047\" xlink:href=\"#DejaVuSans-48\"/>\n      </g>\n     </g>\n    </g>\n    <g id=\"xtick_2\">\n     <g id=\"line2d_2\">\n      <path clip-path=\"url(#pcf77d4d781)\" d=\"M 132.951181 241.277813 \nL 132.951181 23.837812 \n\" style=\"fill:none;stroke:#ffffff;stroke-linecap:round;\"/>\n     </g>\n     <g id=\"text_2\">\n      <!-- 20 -->\n      <defs>\n       <path d=\"M 19.1875 8.296875 \nL 53.609375 8.296875 \nL 53.609375 0 \nL 7.328125 0 \nL 7.328125 8.296875 \nQ 12.9375 14.109375 22.625 23.890625 \nQ 32.328125 33.6875 34.8125 36.53125 \nQ 39.546875 41.84375 41.421875 45.53125 \nQ 43.3125 49.21875 43.3125 52.78125 \nQ 43.3125 58.59375 39.234375 62.25 \nQ 35.15625 65.921875 28.609375 65.921875 \nQ 23.96875 65.921875 18.8125 64.3125 \nQ 13.671875 62.703125 7.8125 59.421875 \nL 7.8125 69.390625 \nQ 13.765625 71.78125 18.9375 73 \nQ 24.125 74.21875 28.421875 74.21875 \nQ 39.75 74.21875 46.484375 68.546875 \nQ 53.21875 62.890625 53.21875 53.421875 \nQ 53.21875 48.921875 51.53125 44.890625 \nQ 49.859375 40.875 45.40625 35.40625 \nQ 44.1875 33.984375 37.640625 27.21875 \nQ 31.109375 20.453125 19.1875 8.296875 \nz\n\" id=\"DejaVuSans-50\"/>\n      </defs>\n      <g style=\"fill:#262626;\" transform=\"translate(125.952431 259.136094)scale(0.11 -0.11)\">\n       <use xlink:href=\"#DejaVuSans-50\"/>\n       <use x=\"63.623047\" xlink:href=\"#DejaVuSans-48\"/>\n      </g>\n     </g>\n    </g>\n    <g id=\"xtick_3\">\n     <g id=\"line2d_3\">\n      <path clip-path=\"url(#pcf77d4d781)\" d=\"M 204.240532 241.277813 \nL 204.240532 23.837812 \n\" style=\"fill:none;stroke:#ffffff;stroke-linecap:round;\"/>\n     </g>\n     <g id=\"text_3\">\n      <!-- 50 -->\n      <defs>\n       <path d=\"M 10.796875 72.90625 \nL 49.515625 72.90625 \nL 49.515625 64.59375 \nL 19.828125 64.59375 \nL 19.828125 46.734375 \nQ 21.96875 47.46875 24.109375 47.828125 \nQ 26.265625 48.1875 28.421875 48.1875 \nQ 40.625 48.1875 47.75 41.5 \nQ 54.890625 34.8125 54.890625 23.390625 \nQ 54.890625 11.625 47.5625 5.09375 \nQ 40.234375 -1.421875 26.90625 -1.421875 \nQ 22.3125 -1.421875 17.546875 -0.640625 \nQ 12.796875 0.140625 7.71875 1.703125 \nL 7.71875 11.625 \nQ 12.109375 9.234375 16.796875 8.0625 \nQ 21.484375 6.890625 26.703125 6.890625 \nQ 35.15625 6.890625 40.078125 11.328125 \nQ 45.015625 15.765625 45.015625 23.390625 \nQ 45.015625 31 40.078125 35.4375 \nQ 35.15625 39.890625 26.703125 39.890625 \nQ 22.75 39.890625 18.8125 39.015625 \nQ 14.890625 38.140625 10.796875 36.28125 \nz\n\" id=\"DejaVuSans-53\"/>\n      </defs>\n      <g style=\"fill:#262626;\" transform=\"translate(197.241782 259.136094)scale(0.11 -0.11)\">\n       <use xlink:href=\"#DejaVuSans-53\"/>\n       <use x=\"63.623047\" xlink:href=\"#DejaVuSans-48\"/>\n      </g>\n     </g>\n    </g>\n    <g id=\"xtick_4\">\n     <g id=\"line2d_4\">\n      <path clip-path=\"url(#pcf77d4d781)\" d=\"M 258.168843 241.277813 \nL 258.168843 23.837812 \n\" style=\"fill:none;stroke:#ffffff;stroke-linecap:round;\"/>\n     </g>\n     <g id=\"text_4\">\n      <!-- 100 -->\n      <g style=\"fill:#262626;\" transform=\"translate(247.670718 259.136094)scale(0.11 -0.11)\">\n       <use xlink:href=\"#DejaVuSans-49\"/>\n       <use x=\"63.623047\" xlink:href=\"#DejaVuSans-48\"/>\n       <use x=\"127.246094\" xlink:href=\"#DejaVuSans-48\"/>\n      </g>\n     </g>\n    </g>\n    <g id=\"xtick_5\">\n     <g id=\"line2d_5\">\n      <path clip-path=\"url(#pcf77d4d781)\" d=\"M 312.097155 241.277813 \nL 312.097155 23.837812 \n\" style=\"fill:none;stroke:#ffffff;stroke-linecap:round;\"/>\n     </g>\n     <g id=\"text_5\">\n      <!-- 200 -->\n      <g style=\"fill:#262626;\" transform=\"translate(301.59903 259.136094)scale(0.11 -0.11)\">\n       <use xlink:href=\"#DejaVuSans-50\"/>\n       <use x=\"63.623047\" xlink:href=\"#DejaVuSans-48\"/>\n       <use x=\"127.246094\" xlink:href=\"#DejaVuSans-48\"/>\n      </g>\n     </g>\n    </g>\n    <g id=\"xtick_6\">\n     <g id=\"line2d_6\">\n      <path clip-path=\"url(#pcf77d4d781)\" d=\"M 383.386506 241.277813 \nL 383.386506 23.837812 \n\" style=\"fill:none;stroke:#ffffff;stroke-linecap:round;\"/>\n     </g>\n     <g id=\"text_6\">\n      <!-- 500 -->\n      <g style=\"fill:#262626;\" transform=\"translate(372.888381 259.136094)scale(0.11 -0.11)\">\n       <use xlink:href=\"#DejaVuSans-53\"/>\n       <use x=\"63.623047\" xlink:href=\"#DejaVuSans-48\"/>\n       <use x=\"127.246094\" xlink:href=\"#DejaVuSans-48\"/>\n      </g>\n     </g>\n    </g>\n    <g id=\"text_7\">\n     <!-- Number of images per class -->\n     <defs>\n      <path d=\"M 9.8125 72.90625 \nL 23.09375 72.90625 \nL 55.421875 11.921875 \nL 55.421875 72.90625 \nL 64.984375 72.90625 \nL 64.984375 0 \nL 51.703125 0 \nL 19.390625 60.984375 \nL 19.390625 0 \nL 9.8125 0 \nz\n\" id=\"DejaVuSans-78\"/>\n      <path d=\"M 8.5 21.578125 \nL 8.5 54.6875 \nL 17.484375 54.6875 \nL 17.484375 21.921875 \nQ 17.484375 14.15625 20.5 10.265625 \nQ 23.53125 6.390625 29.59375 6.390625 \nQ 36.859375 6.390625 41.078125 11.03125 \nQ 45.3125 15.671875 45.3125 23.6875 \nL 45.3125 54.6875 \nL 54.296875 54.6875 \nL 54.296875 0 \nL 45.3125 0 \nL 45.3125 8.40625 \nQ 42.046875 3.421875 37.71875 1 \nQ 33.40625 -1.421875 27.6875 -1.421875 \nQ 18.265625 -1.421875 13.375 4.4375 \nQ 8.5 10.296875 8.5 21.578125 \nz\nM 31.109375 56 \nz\n\" id=\"DejaVuSans-117\"/>\n      <path d=\"M 52 44.1875 \nQ 55.375 50.25 60.0625 53.125 \nQ 64.75 56 71.09375 56 \nQ 79.640625 56 84.28125 50.015625 \nQ 88.921875 44.046875 88.921875 33.015625 \nL 88.921875 0 \nL 79.890625 0 \nL 79.890625 32.71875 \nQ 79.890625 40.578125 77.09375 44.375 \nQ 74.3125 48.1875 68.609375 48.1875 \nQ 61.625 48.1875 57.5625 43.546875 \nQ 53.515625 38.921875 53.515625 30.90625 \nL 53.515625 0 \nL 44.484375 0 \nL 44.484375 32.71875 \nQ 44.484375 40.625 41.703125 44.40625 \nQ 38.921875 48.1875 33.109375 48.1875 \nQ 26.21875 48.1875 22.15625 43.53125 \nQ 18.109375 38.875 18.109375 30.90625 \nL 18.109375 0 \nL 9.078125 0 \nL 9.078125 54.6875 \nL 18.109375 54.6875 \nL 18.109375 46.1875 \nQ 21.1875 51.21875 25.484375 53.609375 \nQ 29.78125 56 35.6875 56 \nQ 41.65625 56 45.828125 52.96875 \nQ 50 49.953125 52 44.1875 \nz\n\" id=\"DejaVuSans-109\"/>\n      <path d=\"M 48.6875 27.296875 \nQ 48.6875 37.203125 44.609375 42.84375 \nQ 40.53125 48.484375 33.40625 48.484375 \nQ 26.265625 48.484375 22.1875 42.84375 \nQ 18.109375 37.203125 18.109375 27.296875 \nQ 18.109375 17.390625 22.1875 11.75 \nQ 26.265625 6.109375 33.40625 6.109375 \nQ 40.53125 6.109375 44.609375 11.75 \nQ 48.6875 17.390625 48.6875 27.296875 \nz\nM 18.109375 46.390625 \nQ 20.953125 51.265625 25.265625 53.625 \nQ 29.59375 56 35.59375 56 \nQ 45.5625 56 51.78125 48.09375 \nQ 58.015625 40.1875 58.015625 27.296875 \nQ 58.015625 14.40625 51.78125 6.484375 \nQ 45.5625 -1.421875 35.59375 -1.421875 \nQ 29.59375 -1.421875 25.265625 0.953125 \nQ 20.953125 3.328125 18.109375 8.203125 \nL 18.109375 0 \nL 9.078125 0 \nL 9.078125 75.984375 \nL 18.109375 75.984375 \nz\n\" id=\"DejaVuSans-98\"/>\n      <path d=\"M 56.203125 29.59375 \nL 56.203125 25.203125 \nL 14.890625 25.203125 \nQ 15.484375 15.921875 20.484375 11.0625 \nQ 25.484375 6.203125 34.421875 6.203125 \nQ 39.59375 6.203125 44.453125 7.46875 \nQ 49.3125 8.734375 54.109375 11.28125 \nL 54.109375 2.78125 \nQ 49.265625 0.734375 44.1875 -0.34375 \nQ 39.109375 -1.421875 33.890625 -1.421875 \nQ 20.796875 -1.421875 13.15625 6.1875 \nQ 5.515625 13.8125 5.515625 26.8125 \nQ 5.515625 40.234375 12.765625 48.109375 \nQ 20.015625 56 32.328125 56 \nQ 43.359375 56 49.78125 48.890625 \nQ 56.203125 41.796875 56.203125 29.59375 \nz\nM 47.21875 32.234375 \nQ 47.125 39.59375 43.09375 43.984375 \nQ 39.0625 48.390625 32.421875 48.390625 \nQ 24.90625 48.390625 20.390625 44.140625 \nQ 15.875 39.890625 15.1875 32.171875 \nz\n\" id=\"DejaVuSans-101\"/>\n      <path d=\"M 41.109375 46.296875 \nQ 39.59375 47.171875 37.8125 47.578125 \nQ 36.03125 48 33.890625 48 \nQ 26.265625 48 22.1875 43.046875 \nQ 18.109375 38.09375 18.109375 28.8125 \nL 18.109375 0 \nL 9.078125 0 \nL 9.078125 54.6875 \nL 18.109375 54.6875 \nL 18.109375 46.1875 \nQ 20.953125 51.171875 25.484375 53.578125 \nQ 30.03125 56 36.53125 56 \nQ 37.453125 56 38.578125 55.875 \nQ 39.703125 55.765625 41.0625 55.515625 \nz\n\" id=\"DejaVuSans-114\"/>\n      <path id=\"DejaVuSans-32\"/>\n      <path d=\"M 30.609375 48.390625 \nQ 23.390625 48.390625 19.1875 42.75 \nQ 14.984375 37.109375 14.984375 27.296875 \nQ 14.984375 17.484375 19.15625 11.84375 \nQ 23.34375 6.203125 30.609375 6.203125 \nQ 37.796875 6.203125 41.984375 11.859375 \nQ 46.1875 17.53125 46.1875 27.296875 \nQ 46.1875 37.015625 41.984375 42.703125 \nQ 37.796875 48.390625 30.609375 48.390625 \nz\nM 30.609375 56 \nQ 42.328125 56 49.015625 48.375 \nQ 55.71875 40.765625 55.71875 27.296875 \nQ 55.71875 13.875 49.015625 6.21875 \nQ 42.328125 -1.421875 30.609375 -1.421875 \nQ 18.84375 -1.421875 12.171875 6.21875 \nQ 5.515625 13.875 5.515625 27.296875 \nQ 5.515625 40.765625 12.171875 48.375 \nQ 18.84375 56 30.609375 56 \nz\n\" id=\"DejaVuSans-111\"/>\n      <path d=\"M 37.109375 75.984375 \nL 37.109375 68.5 \nL 28.515625 68.5 \nQ 23.6875 68.5 21.796875 66.546875 \nQ 19.921875 64.59375 19.921875 59.515625 \nL 19.921875 54.6875 \nL 34.71875 54.6875 \nL 34.71875 47.703125 \nL 19.921875 47.703125 \nL 19.921875 0 \nL 10.890625 0 \nL 10.890625 47.703125 \nL 2.296875 47.703125 \nL 2.296875 54.6875 \nL 10.890625 54.6875 \nL 10.890625 58.5 \nQ 10.890625 67.625 15.140625 71.796875 \nQ 19.390625 75.984375 28.609375 75.984375 \nz\n\" id=\"DejaVuSans-102\"/>\n      <path d=\"M 9.421875 54.6875 \nL 18.40625 54.6875 \nL 18.40625 0 \nL 9.421875 0 \nz\nM 9.421875 75.984375 \nL 18.40625 75.984375 \nL 18.40625 64.59375 \nL 9.421875 64.59375 \nz\n\" id=\"DejaVuSans-105\"/>\n      <path d=\"M 34.28125 27.484375 \nQ 23.390625 27.484375 19.1875 25 \nQ 14.984375 22.515625 14.984375 16.5 \nQ 14.984375 11.71875 18.140625 8.90625 \nQ 21.296875 6.109375 26.703125 6.109375 \nQ 34.1875 6.109375 38.703125 11.40625 \nQ 43.21875 16.703125 43.21875 25.484375 \nL 43.21875 27.484375 \nz\nM 52.203125 31.203125 \nL 52.203125 0 \nL 43.21875 0 \nL 43.21875 8.296875 \nQ 40.140625 3.328125 35.546875 0.953125 \nQ 30.953125 -1.421875 24.3125 -1.421875 \nQ 15.921875 -1.421875 10.953125 3.296875 \nQ 6 8.015625 6 15.921875 \nQ 6 25.140625 12.171875 29.828125 \nQ 18.359375 34.515625 30.609375 34.515625 \nL 43.21875 34.515625 \nL 43.21875 35.40625 \nQ 43.21875 41.609375 39.140625 45 \nQ 35.0625 48.390625 27.6875 48.390625 \nQ 23 48.390625 18.546875 47.265625 \nQ 14.109375 46.140625 10.015625 43.890625 \nL 10.015625 52.203125 \nQ 14.9375 54.109375 19.578125 55.046875 \nQ 24.21875 56 28.609375 56 \nQ 40.484375 56 46.34375 49.84375 \nQ 52.203125 43.703125 52.203125 31.203125 \nz\n\" id=\"DejaVuSans-97\"/>\n      <path d=\"M 45.40625 27.984375 \nQ 45.40625 37.75 41.375 43.109375 \nQ 37.359375 48.484375 30.078125 48.484375 \nQ 22.859375 48.484375 18.828125 43.109375 \nQ 14.796875 37.75 14.796875 27.984375 \nQ 14.796875 18.265625 18.828125 12.890625 \nQ 22.859375 7.515625 30.078125 7.515625 \nQ 37.359375 7.515625 41.375 12.890625 \nQ 45.40625 18.265625 45.40625 27.984375 \nz\nM 54.390625 6.78125 \nQ 54.390625 -7.171875 48.1875 -13.984375 \nQ 42 -20.796875 29.203125 -20.796875 \nQ 24.46875 -20.796875 20.265625 -20.09375 \nQ 16.0625 -19.390625 12.109375 -17.921875 \nL 12.109375 -9.1875 \nQ 16.0625 -11.328125 19.921875 -12.34375 \nQ 23.78125 -13.375 27.78125 -13.375 \nQ 36.625 -13.375 41.015625 -8.765625 \nQ 45.40625 -4.15625 45.40625 5.171875 \nL 45.40625 9.625 \nQ 42.625 4.78125 38.28125 2.390625 \nQ 33.9375 0 27.875 0 \nQ 17.828125 0 11.671875 7.65625 \nQ 5.515625 15.328125 5.515625 27.984375 \nQ 5.515625 40.671875 11.671875 48.328125 \nQ 17.828125 56 27.875 56 \nQ 33.9375 56 38.28125 53.609375 \nQ 42.625 51.21875 45.40625 46.390625 \nL 45.40625 54.6875 \nL 54.390625 54.6875 \nz\n\" id=\"DejaVuSans-103\"/>\n      <path d=\"M 44.28125 53.078125 \nL 44.28125 44.578125 \nQ 40.484375 46.53125 36.375 47.5 \nQ 32.28125 48.484375 27.875 48.484375 \nQ 21.1875 48.484375 17.84375 46.4375 \nQ 14.5 44.390625 14.5 40.28125 \nQ 14.5 37.15625 16.890625 35.375 \nQ 19.28125 33.59375 26.515625 31.984375 \nL 29.59375 31.296875 \nQ 39.15625 29.25 43.1875 25.515625 \nQ 47.21875 21.78125 47.21875 15.09375 \nQ 47.21875 7.46875 41.1875 3.015625 \nQ 35.15625 -1.421875 24.609375 -1.421875 \nQ 20.21875 -1.421875 15.453125 -0.5625 \nQ 10.6875 0.296875 5.421875 2 \nL 5.421875 11.28125 \nQ 10.40625 8.6875 15.234375 7.390625 \nQ 20.0625 6.109375 24.8125 6.109375 \nQ 31.15625 6.109375 34.5625 8.28125 \nQ 37.984375 10.453125 37.984375 14.40625 \nQ 37.984375 18.0625 35.515625 20.015625 \nQ 33.0625 21.96875 24.703125 23.78125 \nL 21.578125 24.515625 \nQ 13.234375 26.265625 9.515625 29.90625 \nQ 5.8125 33.546875 5.8125 39.890625 \nQ 5.8125 47.609375 11.28125 51.796875 \nQ 16.75 56 26.8125 56 \nQ 31.78125 56 36.171875 55.265625 \nQ 40.578125 54.546875 44.28125 53.078125 \nz\n\" id=\"DejaVuSans-115\"/>\n      <path d=\"M 18.109375 8.203125 \nL 18.109375 -20.796875 \nL 9.078125 -20.796875 \nL 9.078125 54.6875 \nL 18.109375 54.6875 \nL 18.109375 46.390625 \nQ 20.953125 51.265625 25.265625 53.625 \nQ 29.59375 56 35.59375 56 \nQ 45.5625 56 51.78125 48.09375 \nQ 58.015625 40.1875 58.015625 27.296875 \nQ 58.015625 14.40625 51.78125 6.484375 \nQ 45.5625 -1.421875 35.59375 -1.421875 \nQ 29.59375 -1.421875 25.265625 0.953125 \nQ 20.953125 3.328125 18.109375 8.203125 \nz\nM 48.6875 27.296875 \nQ 48.6875 37.203125 44.609375 42.84375 \nQ 40.53125 48.484375 33.40625 48.484375 \nQ 26.265625 48.484375 22.1875 42.84375 \nQ 18.109375 37.203125 18.109375 27.296875 \nQ 18.109375 17.390625 22.1875 11.75 \nQ 26.265625 6.109375 33.40625 6.109375 \nQ 40.53125 6.109375 44.609375 11.75 \nQ 48.6875 17.390625 48.6875 27.296875 \nz\n\" id=\"DejaVuSans-112\"/>\n      <path d=\"M 48.78125 52.59375 \nL 48.78125 44.1875 \nQ 44.96875 46.296875 41.140625 47.34375 \nQ 37.3125 48.390625 33.40625 48.390625 \nQ 24.65625 48.390625 19.8125 42.84375 \nQ 14.984375 37.3125 14.984375 27.296875 \nQ 14.984375 17.28125 19.8125 11.734375 \nQ 24.65625 6.203125 33.40625 6.203125 \nQ 37.3125 6.203125 41.140625 7.25 \nQ 44.96875 8.296875 48.78125 10.40625 \nL 48.78125 2.09375 \nQ 45.015625 0.34375 40.984375 -0.53125 \nQ 36.96875 -1.421875 32.421875 -1.421875 \nQ 20.0625 -1.421875 12.78125 6.34375 \nQ 5.515625 14.109375 5.515625 27.296875 \nQ 5.515625 40.671875 12.859375 48.328125 \nQ 20.21875 56 33.015625 56 \nQ 37.15625 56 41.109375 55.140625 \nQ 45.0625 54.296875 48.78125 52.59375 \nz\n\" id=\"DejaVuSans-99\"/>\n      <path d=\"M 9.421875 75.984375 \nL 18.40625 75.984375 \nL 18.40625 0 \nL 9.421875 0 \nz\n\" id=\"DejaVuSans-108\"/>\n     </defs>\n     <g style=\"fill:#262626;\" transform=\"translate(147.014375 274.541875)scale(0.12 -0.12)\">\n      <use xlink:href=\"#DejaVuSans-78\"/>\n      <use x=\"74.804688\" xlink:href=\"#DejaVuSans-117\"/>\n      <use x=\"138.183594\" xlink:href=\"#DejaVuSans-109\"/>\n      <use x=\"235.595703\" xlink:href=\"#DejaVuSans-98\"/>\n      <use x=\"299.072266\" xlink:href=\"#DejaVuSans-101\"/>\n      <use x=\"360.595703\" xlink:href=\"#DejaVuSans-114\"/>\n      <use x=\"401.708984\" xlink:href=\"#DejaVuSans-32\"/>\n      <use x=\"433.496094\" xlink:href=\"#DejaVuSans-111\"/>\n      <use x=\"494.677734\" xlink:href=\"#DejaVuSans-102\"/>\n      <use x=\"529.882812\" xlink:href=\"#DejaVuSans-32\"/>\n      <use x=\"561.669922\" xlink:href=\"#DejaVuSans-105\"/>\n      <use x=\"589.453125\" xlink:href=\"#DejaVuSans-109\"/>\n      <use x=\"686.865234\" xlink:href=\"#DejaVuSans-97\"/>\n      <use x=\"748.144531\" xlink:href=\"#DejaVuSans-103\"/>\n      <use x=\"811.621094\" xlink:href=\"#DejaVuSans-101\"/>\n      <use x=\"873.144531\" xlink:href=\"#DejaVuSans-115\"/>\n      <use x=\"925.244141\" xlink:href=\"#DejaVuSans-32\"/>\n      <use x=\"957.03125\" xlink:href=\"#DejaVuSans-112\"/>\n      <use x=\"1020.507812\" xlink:href=\"#DejaVuSans-101\"/>\n      <use x=\"1082.03125\" xlink:href=\"#DejaVuSans-114\"/>\n      <use x=\"1123.144531\" xlink:href=\"#DejaVuSans-32\"/>\n      <use x=\"1154.931641\" xlink:href=\"#DejaVuSans-99\"/>\n      <use x=\"1209.912109\" xlink:href=\"#DejaVuSans-108\"/>\n      <use x=\"1237.695312\" xlink:href=\"#DejaVuSans-97\"/>\n      <use x=\"1298.974609\" xlink:href=\"#DejaVuSans-115\"/>\n      <use x=\"1351.074219\" xlink:href=\"#DejaVuSans-115\"/>\n     </g>\n    </g>\n   </g>\n   <g id=\"matplotlib.axis_2\">\n    <g id=\"ytick_1\">\n     <g id=\"line2d_7\">\n      <path clip-path=\"url(#pcf77d4d781)\" d=\"M 63.804688 234.459871 \nL 398.604688 234.459871 \n\" style=\"fill:none;stroke:#ffffff;stroke-linecap:round;\"/>\n     </g>\n     <g id=\"text_8\">\n      <!-- 0.625 -->\n      <defs>\n       <path d=\"M 10.6875 12.40625 \nL 21 12.40625 \nL 21 0 \nL 10.6875 0 \nz\n\" id=\"DejaVuSans-46\"/>\n       <path d=\"M 33.015625 40.375 \nQ 26.375 40.375 22.484375 35.828125 \nQ 18.609375 31.296875 18.609375 23.390625 \nQ 18.609375 15.53125 22.484375 10.953125 \nQ 26.375 6.390625 33.015625 6.390625 \nQ 39.65625 6.390625 43.53125 10.953125 \nQ 47.40625 15.53125 47.40625 23.390625 \nQ 47.40625 31.296875 43.53125 35.828125 \nQ 39.65625 40.375 33.015625 40.375 \nz\nM 52.59375 71.296875 \nL 52.59375 62.3125 \nQ 48.875 64.0625 45.09375 64.984375 \nQ 41.3125 65.921875 37.59375 65.921875 \nQ 27.828125 65.921875 22.671875 59.328125 \nQ 17.53125 52.734375 16.796875 39.40625 \nQ 19.671875 43.65625 24.015625 45.921875 \nQ 28.375 48.1875 33.59375 48.1875 \nQ 44.578125 48.1875 50.953125 41.515625 \nQ 57.328125 34.859375 57.328125 23.390625 \nQ 57.328125 12.15625 50.6875 5.359375 \nQ 44.046875 -1.421875 33.015625 -1.421875 \nQ 20.359375 -1.421875 13.671875 8.265625 \nQ 6.984375 17.96875 6.984375 36.375 \nQ 6.984375 53.65625 15.1875 63.9375 \nQ 23.390625 74.21875 37.203125 74.21875 \nQ 40.921875 74.21875 44.703125 73.484375 \nQ 48.484375 72.75 52.59375 71.296875 \nz\n\" id=\"DejaVuSans-54\"/>\n      </defs>\n      <g style=\"fill:#262626;\" transform=\"translate(22.81375 238.639011)scale(0.11 -0.11)\">\n       <use xlink:href=\"#DejaVuSans-48\"/>\n       <use x=\"63.623047\" xlink:href=\"#DejaVuSans-46\"/>\n       <use x=\"95.410156\" xlink:href=\"#DejaVuSans-54\"/>\n       <use x=\"159.033203\" xlink:href=\"#DejaVuSans-50\"/>\n       <use x=\"222.65625\" xlink:href=\"#DejaVuSans-53\"/>\n      </g>\n     </g>\n    </g>\n    <g id=\"ytick_2\">\n     <g id=\"line2d_8\">\n      <path clip-path=\"url(#pcf77d4d781)\" d=\"M 63.804688 207.801383 \nL 398.604688 207.801383 \n\" style=\"fill:none;stroke:#ffffff;stroke-linecap:round;\"/>\n     </g>\n     <g id=\"text_9\">\n      <!-- 0.650 -->\n      <g style=\"fill:#262626;\" transform=\"translate(22.81375 211.980523)scale(0.11 -0.11)\">\n       <use xlink:href=\"#DejaVuSans-48\"/>\n       <use x=\"63.623047\" xlink:href=\"#DejaVuSans-46\"/>\n       <use x=\"95.410156\" xlink:href=\"#DejaVuSans-54\"/>\n       <use x=\"159.033203\" xlink:href=\"#DejaVuSans-53\"/>\n       <use x=\"222.65625\" xlink:href=\"#DejaVuSans-48\"/>\n      </g>\n     </g>\n    </g>\n    <g id=\"ytick_3\">\n     <g id=\"line2d_9\">\n      <path clip-path=\"url(#pcf77d4d781)\" d=\"M 63.804688 181.142894 \nL 398.604688 181.142894 \n\" style=\"fill:none;stroke:#ffffff;stroke-linecap:round;\"/>\n     </g>\n     <g id=\"text_10\">\n      <!-- 0.675 -->\n      <defs>\n       <path d=\"M 8.203125 72.90625 \nL 55.078125 72.90625 \nL 55.078125 68.703125 \nL 28.609375 0 \nL 18.3125 0 \nL 43.21875 64.59375 \nL 8.203125 64.59375 \nz\n\" id=\"DejaVuSans-55\"/>\n      </defs>\n      <g style=\"fill:#262626;\" transform=\"translate(22.81375 185.322035)scale(0.11 -0.11)\">\n       <use xlink:href=\"#DejaVuSans-48\"/>\n       <use x=\"63.623047\" xlink:href=\"#DejaVuSans-46\"/>\n       <use x=\"95.410156\" xlink:href=\"#DejaVuSans-54\"/>\n       <use x=\"159.033203\" xlink:href=\"#DejaVuSans-55\"/>\n       <use x=\"222.65625\" xlink:href=\"#DejaVuSans-53\"/>\n      </g>\n     </g>\n    </g>\n    <g id=\"ytick_4\">\n     <g id=\"line2d_10\">\n      <path clip-path=\"url(#pcf77d4d781)\" d=\"M 63.804688 154.484406 \nL 398.604688 154.484406 \n\" style=\"fill:none;stroke:#ffffff;stroke-linecap:round;\"/>\n     </g>\n     <g id=\"text_11\">\n      <!-- 0.700 -->\n      <g style=\"fill:#262626;\" transform=\"translate(22.81375 158.663547)scale(0.11 -0.11)\">\n       <use xlink:href=\"#DejaVuSans-48\"/>\n       <use x=\"63.623047\" xlink:href=\"#DejaVuSans-46\"/>\n       <use x=\"95.410156\" xlink:href=\"#DejaVuSans-55\"/>\n       <use x=\"159.033203\" xlink:href=\"#DejaVuSans-48\"/>\n       <use x=\"222.65625\" xlink:href=\"#DejaVuSans-48\"/>\n      </g>\n     </g>\n    </g>\n    <g id=\"ytick_5\">\n     <g id=\"line2d_11\">\n      <path clip-path=\"url(#pcf77d4d781)\" d=\"M 63.804688 127.825918 \nL 398.604688 127.825918 \n\" style=\"fill:none;stroke:#ffffff;stroke-linecap:round;\"/>\n     </g>\n     <g id=\"text_12\">\n      <!-- 0.725 -->\n      <g style=\"fill:#262626;\" transform=\"translate(22.81375 132.005058)scale(0.11 -0.11)\">\n       <use xlink:href=\"#DejaVuSans-48\"/>\n       <use x=\"63.623047\" xlink:href=\"#DejaVuSans-46\"/>\n       <use x=\"95.410156\" xlink:href=\"#DejaVuSans-55\"/>\n       <use x=\"159.033203\" xlink:href=\"#DejaVuSans-50\"/>\n       <use x=\"222.65625\" xlink:href=\"#DejaVuSans-53\"/>\n      </g>\n     </g>\n    </g>\n    <g id=\"ytick_6\">\n     <g id=\"line2d_12\">\n      <path clip-path=\"url(#pcf77d4d781)\" d=\"M 63.804688 101.16743 \nL 398.604688 101.16743 \n\" style=\"fill:none;stroke:#ffffff;stroke-linecap:round;\"/>\n     </g>\n     <g id=\"text_13\">\n      <!-- 0.750 -->\n      <g style=\"fill:#262626;\" transform=\"translate(22.81375 105.34657)scale(0.11 -0.11)\">\n       <use xlink:href=\"#DejaVuSans-48\"/>\n       <use x=\"63.623047\" xlink:href=\"#DejaVuSans-46\"/>\n       <use x=\"95.410156\" xlink:href=\"#DejaVuSans-55\"/>\n       <use x=\"159.033203\" xlink:href=\"#DejaVuSans-53\"/>\n       <use x=\"222.65625\" xlink:href=\"#DejaVuSans-48\"/>\n      </g>\n     </g>\n    </g>\n    <g id=\"ytick_7\">\n     <g id=\"line2d_13\">\n      <path clip-path=\"url(#pcf77d4d781)\" d=\"M 63.804688 74.508941 \nL 398.604688 74.508941 \n\" style=\"fill:none;stroke:#ffffff;stroke-linecap:round;\"/>\n     </g>\n     <g id=\"text_14\">\n      <!-- 0.775 -->\n      <g style=\"fill:#262626;\" transform=\"translate(22.81375 78.688082)scale(0.11 -0.11)\">\n       <use xlink:href=\"#DejaVuSans-48\"/>\n       <use x=\"63.623047\" xlink:href=\"#DejaVuSans-46\"/>\n       <use x=\"95.410156\" xlink:href=\"#DejaVuSans-55\"/>\n       <use x=\"159.033203\" xlink:href=\"#DejaVuSans-55\"/>\n       <use x=\"222.65625\" xlink:href=\"#DejaVuSans-53\"/>\n      </g>\n     </g>\n    </g>\n    <g id=\"ytick_8\">\n     <g id=\"line2d_14\">\n      <path clip-path=\"url(#pcf77d4d781)\" d=\"M 63.804688 47.850453 \nL 398.604688 47.850453 \n\" style=\"fill:none;stroke:#ffffff;stroke-linecap:round;\"/>\n     </g>\n     <g id=\"text_15\">\n      <!-- 0.800 -->\n      <defs>\n       <path d=\"M 31.78125 34.625 \nQ 24.75 34.625 20.71875 30.859375 \nQ 16.703125 27.09375 16.703125 20.515625 \nQ 16.703125 13.921875 20.71875 10.15625 \nQ 24.75 6.390625 31.78125 6.390625 \nQ 38.8125 6.390625 42.859375 10.171875 \nQ 46.921875 13.96875 46.921875 20.515625 \nQ 46.921875 27.09375 42.890625 30.859375 \nQ 38.875 34.625 31.78125 34.625 \nz\nM 21.921875 38.8125 \nQ 15.578125 40.375 12.03125 44.71875 \nQ 8.5 49.078125 8.5 55.328125 \nQ 8.5 64.0625 14.71875 69.140625 \nQ 20.953125 74.21875 31.78125 74.21875 \nQ 42.671875 74.21875 48.875 69.140625 \nQ 55.078125 64.0625 55.078125 55.328125 \nQ 55.078125 49.078125 51.53125 44.71875 \nQ 48 40.375 41.703125 38.8125 \nQ 48.828125 37.15625 52.796875 32.3125 \nQ 56.78125 27.484375 56.78125 20.515625 \nQ 56.78125 9.90625 50.3125 4.234375 \nQ 43.84375 -1.421875 31.78125 -1.421875 \nQ 19.734375 -1.421875 13.25 4.234375 \nQ 6.78125 9.90625 6.78125 20.515625 \nQ 6.78125 27.484375 10.78125 32.3125 \nQ 14.796875 37.15625 21.921875 38.8125 \nz\nM 18.3125 54.390625 \nQ 18.3125 48.734375 21.84375 45.5625 \nQ 25.390625 42.390625 31.78125 42.390625 \nQ 38.140625 42.390625 41.71875 45.5625 \nQ 45.3125 48.734375 45.3125 54.390625 \nQ 45.3125 60.0625 41.71875 63.234375 \nQ 38.140625 66.40625 31.78125 66.40625 \nQ 25.390625 66.40625 21.84375 63.234375 \nQ 18.3125 60.0625 18.3125 54.390625 \nz\n\" id=\"DejaVuSans-56\"/>\n      </defs>\n      <g style=\"fill:#262626;\" transform=\"translate(22.81375 52.029594)scale(0.11 -0.11)\">\n       <use xlink:href=\"#DejaVuSans-48\"/>\n       <use x=\"63.623047\" xlink:href=\"#DejaVuSans-46\"/>\n       <use x=\"95.410156\" xlink:href=\"#DejaVuSans-56\"/>\n       <use x=\"159.033203\" xlink:href=\"#DejaVuSans-48\"/>\n       <use x=\"222.65625\" xlink:href=\"#DejaVuSans-48\"/>\n      </g>\n     </g>\n    </g>\n    <g id=\"text_16\">\n     <!-- Test accuracy -->\n     <defs>\n      <path d=\"M -0.296875 72.90625 \nL 61.375 72.90625 \nL 61.375 64.59375 \nL 35.5 64.59375 \nL 35.5 0 \nL 25.59375 0 \nL 25.59375 64.59375 \nL -0.296875 64.59375 \nz\n\" id=\"DejaVuSans-84\"/>\n      <path d=\"M 18.3125 70.21875 \nL 18.3125 54.6875 \nL 36.8125 54.6875 \nL 36.8125 47.703125 \nL 18.3125 47.703125 \nL 18.3125 18.015625 \nQ 18.3125 11.328125 20.140625 9.421875 \nQ 21.96875 7.515625 27.59375 7.515625 \nL 36.8125 7.515625 \nL 36.8125 0 \nL 27.59375 0 \nQ 17.1875 0 13.234375 3.875 \nQ 9.28125 7.765625 9.28125 18.015625 \nL 9.28125 47.703125 \nL 2.6875 47.703125 \nL 2.6875 54.6875 \nL 9.28125 54.6875 \nL 9.28125 70.21875 \nz\n\" id=\"DejaVuSans-116\"/>\n      <path d=\"M 32.171875 -5.078125 \nQ 28.375 -14.84375 24.75 -17.8125 \nQ 21.140625 -20.796875 15.09375 -20.796875 \nL 7.90625 -20.796875 \nL 7.90625 -13.28125 \nL 13.1875 -13.28125 \nQ 16.890625 -13.28125 18.9375 -11.515625 \nQ 21 -9.765625 23.484375 -3.21875 \nL 25.09375 0.875 \nL 2.984375 54.6875 \nL 12.5 54.6875 \nL 29.59375 11.921875 \nL 46.6875 54.6875 \nL 56.203125 54.6875 \nz\n\" id=\"DejaVuSans-121\"/>\n     </defs>\n     <g style=\"fill:#262626;\" transform=\"translate(16.318125 173.350313)rotate(-90)scale(0.12 -0.12)\">\n      <use xlink:href=\"#DejaVuSans-84\"/>\n      <use x=\"44.083984\" xlink:href=\"#DejaVuSans-101\"/>\n      <use x=\"105.607422\" xlink:href=\"#DejaVuSans-115\"/>\n      <use x=\"157.707031\" xlink:href=\"#DejaVuSans-116\"/>\n      <use x=\"196.916016\" xlink:href=\"#DejaVuSans-32\"/>\n      <use x=\"228.703125\" xlink:href=\"#DejaVuSans-97\"/>\n      <use x=\"289.982422\" xlink:href=\"#DejaVuSans-99\"/>\n      <use x=\"344.962891\" xlink:href=\"#DejaVuSans-99\"/>\n      <use x=\"399.943359\" xlink:href=\"#DejaVuSans-117\"/>\n      <use x=\"463.322266\" xlink:href=\"#DejaVuSans-114\"/>\n      <use x=\"504.435547\" xlink:href=\"#DejaVuSans-97\"/>\n      <use x=\"565.714844\" xlink:href=\"#DejaVuSans-99\"/>\n      <use x=\"620.695312\" xlink:href=\"#DejaVuSans-121\"/>\n     </g>\n    </g>\n   </g>\n   <g id=\"line2d_15\">\n    <path clip-path=\"url(#pcf77d4d781)\" d=\"M 79.022869 231.394176 \nL 132.951181 169.413171 \nL 204.240532 107.1656 \nL 258.168843 77.707944 \nL 312.097155 57.847412 \nL 383.386506 33.721449 \n\" style=\"fill:none;stroke:#000000;stroke-dasharray:5.55,2.4;stroke-dashoffset:0;stroke-width:1.5;\"/>\n    <defs>\n     <path d=\"M 0 -8 \nL -1.796112 -2.472136 \nL -7.608452 -2.472136 \nL -2.90617 0.944272 \nL -4.702282 6.472136 \nL -0 3.055728 \nL 4.702282 6.472136 \nL 2.90617 0.944272 \nL 7.608452 -2.472136 \nL 1.796112 -2.472136 \nz\n\" id=\"m59d30e9380\" style=\"stroke:#000000;stroke-linejoin:bevel;\"/>\n    </defs>\n    <g clip-path=\"url(#pcf77d4d781)\">\n     <use style=\"fill:#ccb974;stroke:#000000;stroke-linejoin:bevel;\" x=\"79.022869\" xlink:href=\"#m59d30e9380\" y=\"231.394176\"/>\n     <use style=\"fill:#ccb974;stroke:#000000;stroke-linejoin:bevel;\" x=\"132.951181\" xlink:href=\"#m59d30e9380\" y=\"169.413171\"/>\n     <use style=\"fill:#ccb974;stroke:#000000;stroke-linejoin:bevel;\" x=\"204.240532\" xlink:href=\"#m59d30e9380\" y=\"107.1656\"/>\n     <use style=\"fill:#ccb974;stroke:#000000;stroke-linejoin:bevel;\" x=\"258.168843\" xlink:href=\"#m59d30e9380\" y=\"77.707944\"/>\n     <use style=\"fill:#ccb974;stroke:#000000;stroke-linejoin:bevel;\" x=\"312.097155\" xlink:href=\"#m59d30e9380\" y=\"57.847412\"/>\n     <use style=\"fill:#ccb974;stroke:#000000;stroke-linejoin:bevel;\" x=\"383.386506\" xlink:href=\"#m59d30e9380\" y=\"33.721449\"/>\n    </g>\n   </g>\n   <g id=\"patch_3\">\n    <path d=\"M 63.804688 241.277813 \nL 63.804688 23.837813 \n\" style=\"fill:none;stroke:#ffffff;stroke-linecap:square;stroke-linejoin:miter;stroke-width:1.25;\"/>\n   </g>\n   <g id=\"patch_4\">\n    <path d=\"M 398.604688 241.277813 \nL 398.604688 23.837813 \n\" style=\"fill:none;stroke:#ffffff;stroke-linecap:square;stroke-linejoin:miter;stroke-width:1.25;\"/>\n   </g>\n   <g id=\"patch_5\">\n    <path d=\"M 63.804688 241.277813 \nL 398.604688 241.277813 \n\" style=\"fill:none;stroke:#ffffff;stroke-linecap:square;stroke-linejoin:miter;stroke-width:1.25;\"/>\n   </g>\n   <g id=\"patch_6\">\n    <path d=\"M 63.804688 23.837812 \nL 398.604688 23.837812 \n\" style=\"fill:none;stroke:#ffffff;stroke-linecap:square;stroke-linejoin:miter;stroke-width:1.25;\"/>\n   </g>\n   <g id=\"text_17\">\n    <!-- STL10 classification over dataset size -->\n    <defs>\n     <path d=\"M 53.515625 70.515625 \nL 53.515625 60.890625 \nQ 47.90625 63.578125 42.921875 64.890625 \nQ 37.9375 66.21875 33.296875 66.21875 \nQ 25.25 66.21875 20.875 63.09375 \nQ 16.5 59.96875 16.5 54.203125 \nQ 16.5 49.359375 19.40625 46.890625 \nQ 22.3125 44.4375 30.421875 42.921875 \nL 36.375 41.703125 \nQ 47.40625 39.59375 52.65625 34.296875 \nQ 57.90625 29 57.90625 20.125 \nQ 57.90625 9.515625 50.796875 4.046875 \nQ 43.703125 -1.421875 29.984375 -1.421875 \nQ 24.8125 -1.421875 18.96875 -0.25 \nQ 13.140625 0.921875 6.890625 3.21875 \nL 6.890625 13.375 \nQ 12.890625 10.015625 18.65625 8.296875 \nQ 24.421875 6.59375 29.984375 6.59375 \nQ 38.421875 6.59375 43.015625 9.90625 \nQ 47.609375 13.234375 47.609375 19.390625 \nQ 47.609375 24.75 44.3125 27.78125 \nQ 41.015625 30.8125 33.5 32.328125 \nL 27.484375 33.5 \nQ 16.453125 35.6875 11.515625 40.375 \nQ 6.59375 45.0625 6.59375 53.421875 \nQ 6.59375 63.09375 13.40625 68.65625 \nQ 20.21875 74.21875 32.171875 74.21875 \nQ 37.3125 74.21875 42.625 73.28125 \nQ 47.953125 72.359375 53.515625 70.515625 \nz\n\" id=\"DejaVuSans-83\"/>\n     <path d=\"M 9.8125 72.90625 \nL 19.671875 72.90625 \nL 19.671875 8.296875 \nL 55.171875 8.296875 \nL 55.171875 0 \nL 9.8125 0 \nz\n\" id=\"DejaVuSans-76\"/>\n     <path d=\"M 54.890625 33.015625 \nL 54.890625 0 \nL 45.90625 0 \nL 45.90625 32.71875 \nQ 45.90625 40.484375 42.875 44.328125 \nQ 39.84375 48.1875 33.796875 48.1875 \nQ 26.515625 48.1875 22.3125 43.546875 \nQ 18.109375 38.921875 18.109375 30.90625 \nL 18.109375 0 \nL 9.078125 0 \nL 9.078125 54.6875 \nL 18.109375 54.6875 \nL 18.109375 46.1875 \nQ 21.34375 51.125 25.703125 53.5625 \nQ 30.078125 56 35.796875 56 \nQ 45.21875 56 50.046875 50.171875 \nQ 54.890625 44.34375 54.890625 33.015625 \nz\n\" id=\"DejaVuSans-110\"/>\n     <path d=\"M 2.984375 54.6875 \nL 12.5 54.6875 \nL 29.59375 8.796875 \nL 46.6875 54.6875 \nL 56.203125 54.6875 \nL 35.6875 0 \nL 23.484375 0 \nz\n\" id=\"DejaVuSans-118\"/>\n     <path d=\"M 45.40625 46.390625 \nL 45.40625 75.984375 \nL 54.390625 75.984375 \nL 54.390625 0 \nL 45.40625 0 \nL 45.40625 8.203125 \nQ 42.578125 3.328125 38.25 0.953125 \nQ 33.9375 -1.421875 27.875 -1.421875 \nQ 17.96875 -1.421875 11.734375 6.484375 \nQ 5.515625 14.40625 5.515625 27.296875 \nQ 5.515625 40.1875 11.734375 48.09375 \nQ 17.96875 56 27.875 56 \nQ 33.9375 56 38.25 53.625 \nQ 42.578125 51.265625 45.40625 46.390625 \nz\nM 14.796875 27.296875 \nQ 14.796875 17.390625 18.875 11.75 \nQ 22.953125 6.109375 30.078125 6.109375 \nQ 37.203125 6.109375 41.296875 11.75 \nQ 45.40625 17.390625 45.40625 27.296875 \nQ 45.40625 37.203125 41.296875 42.84375 \nQ 37.203125 48.484375 30.078125 48.484375 \nQ 22.953125 48.484375 18.875 42.84375 \nQ 14.796875 37.203125 14.796875 27.296875 \nz\n\" id=\"DejaVuSans-100\"/>\n     <path d=\"M 5.515625 54.6875 \nL 48.1875 54.6875 \nL 48.1875 46.484375 \nL 14.40625 7.171875 \nL 48.1875 7.171875 \nL 48.1875 0 \nL 4.296875 0 \nL 4.296875 8.203125 \nL 38.09375 47.515625 \nL 5.515625 47.515625 \nz\n\" id=\"DejaVuSans-122\"/>\n    </defs>\n    <g style=\"fill:#262626;\" transform=\"translate(99.852969 17.837812)scale(0.14 -0.14)\">\n     <use xlink:href=\"#DejaVuSans-83\"/>\n     <use x=\"63.476562\" xlink:href=\"#DejaVuSans-84\"/>\n     <use x=\"124.560547\" xlink:href=\"#DejaVuSans-76\"/>\n     <use x=\"180.273438\" xlink:href=\"#DejaVuSans-49\"/>\n     <use x=\"243.896484\" xlink:href=\"#DejaVuSans-48\"/>\n     <use x=\"307.519531\" xlink:href=\"#DejaVuSans-32\"/>\n     <use x=\"339.306641\" xlink:href=\"#DejaVuSans-99\"/>\n     <use x=\"394.287109\" xlink:href=\"#DejaVuSans-108\"/>\n     <use x=\"422.070312\" xlink:href=\"#DejaVuSans-97\"/>\n     <use x=\"483.349609\" xlink:href=\"#DejaVuSans-115\"/>\n     <use x=\"535.449219\" xlink:href=\"#DejaVuSans-115\"/>\n     <use x=\"587.548828\" xlink:href=\"#DejaVuSans-105\"/>\n     <use x=\"615.332031\" xlink:href=\"#DejaVuSans-102\"/>\n     <use x=\"650.537109\" xlink:href=\"#DejaVuSans-105\"/>\n     <use x=\"678.320312\" xlink:href=\"#DejaVuSans-99\"/>\n     <use x=\"733.300781\" xlink:href=\"#DejaVuSans-97\"/>\n     <use x=\"794.580078\" xlink:href=\"#DejaVuSans-116\"/>\n     <use x=\"833.789062\" xlink:href=\"#DejaVuSans-105\"/>\n     <use x=\"861.572266\" xlink:href=\"#DejaVuSans-111\"/>\n     <use x=\"922.753906\" xlink:href=\"#DejaVuSans-110\"/>\n     <use x=\"986.132812\" xlink:href=\"#DejaVuSans-32\"/>\n     <use x=\"1017.919922\" xlink:href=\"#DejaVuSans-111\"/>\n     <use x=\"1079.101562\" xlink:href=\"#DejaVuSans-118\"/>\n     <use x=\"1138.28125\" xlink:href=\"#DejaVuSans-101\"/>\n     <use x=\"1199.804688\" xlink:href=\"#DejaVuSans-114\"/>\n     <use x=\"1240.917969\" xlink:href=\"#DejaVuSans-32\"/>\n     <use x=\"1272.705078\" xlink:href=\"#DejaVuSans-100\"/>\n     <use x=\"1336.181641\" xlink:href=\"#DejaVuSans-97\"/>\n     <use x=\"1397.460938\" xlink:href=\"#DejaVuSans-116\"/>\n     <use x=\"1436.669922\" xlink:href=\"#DejaVuSans-97\"/>\n     <use x=\"1497.949219\" xlink:href=\"#DejaVuSans-115\"/>\n     <use x=\"1550.048828\" xlink:href=\"#DejaVuSans-101\"/>\n     <use x=\"1611.572266\" xlink:href=\"#DejaVuSans-116\"/>\n     <use x=\"1650.78125\" xlink:href=\"#DejaVuSans-32\"/>\n     <use x=\"1682.568359\" xlink:href=\"#DejaVuSans-115\"/>\n     <use x=\"1734.667969\" xlink:href=\"#DejaVuSans-105\"/>\n     <use x=\"1762.451172\" xlink:href=\"#DejaVuSans-122\"/>\n     <use x=\"1814.941406\" xlink:href=\"#DejaVuSans-101\"/>\n    </g>\n   </g>\n  </g>\n </g>\n <defs>\n  <clipPath id=\"pcf77d4d781\">\n   <rect height=\"217.44\" width=\"334.8\" x=\"63.804688\" y=\"23.837812\"/>\n  </clipPath>\n </defs>\n</svg>\n",
            "application/pdf": "[encoded data removed]"
          },
          "metadata": {}
        },
        {
          "output_type": "stream",
          "name": "stdout",
          "text": [
            "Test accuracy for  10 images per label: 62.79%\n",
            "Test accuracy for  20 images per label: 68.60%\n",
            "Test accuracy for  50 images per label: 74.44%\n",
            "Test accuracy for 100 images per label: 77.20%\n",
            "Test accuracy for 200 images per label: 79.06%\n",
            "Test accuracy for 500 images per label: 81.33%\n"
          ]
        }
      ]
    },
    {
      "cell_type": "code",
      "source": [
        "class ResNet(pl.LightningModule):\n",
        "\n",
        "    def __init__(self, num_classes, lr, weight_decay, max_epochs=100):\n",
        "        super().__init__()\n",
        "        self.save_hyperparameters()\n",
        "        self.model = torchvision.models.resnet18(num_classes=num_classes)\n",
        "\n",
        "    def configure_optimizers(self):\n",
        "        optimizer = optim.AdamW(self.parameters(),\n",
        "                                lr=self.hparams.lr,\n",
        "                                weight_decay=self.hparams.weight_decay)\n",
        "        lr_scheduler = optim.lr_scheduler.MultiStepLR(optimizer,\n",
        "                                                      milestones=[int(self.hparams.max_epochs*0.7),\n",
        "                                                                  int(self.hparams.max_epochs*0.9)],\n",
        "                                                      gamma=0.1)\n",
        "        return [optimizer], [lr_scheduler]\n",
        "\n",
        "    def _calculate_loss(self, batch, mode='train'):\n",
        "        imgs, labels = batch\n",
        "        preds = self.model(imgs)\n",
        "        loss = F.cross_entropy(preds, labels)\n",
        "        acc = (preds.argmax(dim=-1) == labels).float().mean()\n",
        "\n",
        "        self.log(mode + '_loss', loss)\n",
        "        self.log(mode + '_acc', acc)\n",
        "        return loss\n",
        "\n",
        "    def training_step(self, batch, batch_idx):\n",
        "        return self._calculate_loss(batch, mode='train')\n",
        "\n",
        "    def validation_step(self, batch, batch_idx):\n",
        "        self._calculate_loss(batch, mode='val')\n",
        "\n",
        "    def test_step(self, batch, batch_idx):\n",
        "        self._calculate_loss(batch, mode='test')"
      ],
      "metadata": {
        "id": "MVFXsFig1-iH"
      },
      "execution_count": 44,
      "outputs": []
    },
    {
      "cell_type": "code",
      "source": [
        "train_transforms = transforms.Compose([transforms.RandomHorizontalFlip(),\n",
        "                                       transforms.RandomResizedCrop(size=96, scale=(0.8, 1.0)),\n",
        "                                       transforms.RandomGrayscale(p=0.2),\n",
        "                                       transforms.GaussianBlur(kernel_size=9, sigma=(0.1, 0.5)),\n",
        "                                       transforms.ToTensor(),\n",
        "                                       transforms.Normalize((0.5,), (0.5,))\n",
        "                                       ])\n",
        "\n",
        "train_img_aug_data = STL10(root=DATASET_PATH, split='train', download=True,\n",
        "                           transform=train_transforms)\n"
      ],
      "metadata": {
        "colab": {
          "base_uri": "https://localhost:8080/"
        },
        "id": "zrV4phMr2J8X",
        "outputId": "79fc6bbe-f22e-4fc9-af37-ac5be8fe1c00"
      },
      "execution_count": 45,
      "outputs": [
        {
          "output_type": "stream",
          "name": "stdout",
          "text": [
            "Files already downloaded and verified\n"
          ]
        }
      ]
    },
    {
      "cell_type": "code",
      "source": [
        "def train_resnet(batch_size, max_epochs=100, **kwargs):\n",
        "    trainer = pl.Trainer(default_root_dir=os.path.join(CHECKPOINT_PATH, \"ResNet\"),\n",
        "                         accelerator=\"gpu\" if str(device).startswith(\"cuda\") else \"cpu\",\n",
        "                         devices=1,\n",
        "                         max_epochs=max_epochs,\n",
        "                         callbacks=[ModelCheckpoint(save_weights_only=True, mode=\"max\", monitor=\"val_acc\"),\n",
        "                                    LearningRateMonitor(\"epoch\")],\n",
        "                         check_val_every_n_epoch=2)\n",
        "    trainer.logger._default_hp_metric = None\n",
        "\n",
        "    # Data loaders\n",
        "    train_loader = data.DataLoader(train_img_aug_data, batch_size=batch_size, shuffle=True,\n",
        "                                   drop_last=True, pin_memory=True, num_workers=NUM_WORKERS)\n",
        "    test_loader = data.DataLoader(test_img_data, batch_size=batch_size, shuffle=False,\n",
        "                                  drop_last=False, pin_memory=True, num_workers=NUM_WORKERS)\n",
        "\n",
        "    # Check whether pretrained model exists. If yes, load it and skip training\n",
        "    pretrained_filename = os.path.join(CHECKPOINT_PATH, \"ResNet.ckpt\")\n",
        "    if os.path.isfile(pretrained_filename):\n",
        "        print(\"Found pretrained model at %s, loading...\" % pretrained_filename)\n",
        "        model = ResNet.load_from_checkpoint(pretrained_filename)\n",
        "    else:\n",
        "        pl.seed_everything(42) # To be reproducable\n",
        "        model = ResNet(**kwargs)\n",
        "        trainer.fit(model, train_loader, test_loader)\n",
        "        model = ResNet.load_from_checkpoint(trainer.checkpoint_callback.best_model_path)\n",
        "\n",
        "    # Test best model on validation set\n",
        "    train_result = trainer.test(model, train_loader, verbose=False)\n",
        "    val_result = trainer.test(model, test_loader, verbose=False)\n",
        "    result = {\"train\": train_result[0][\"test_acc\"], \"test\": val_result[0][\"test_acc\"]}\n",
        "\n",
        "    return model, result"
      ],
      "metadata": {
        "id": "7BGMlgo32Olj"
      },
      "execution_count": 46,
      "outputs": []
    },
    {
      "cell_type": "code",
      "source": [
        "resnet_model, resnet_result = train_resnet(batch_size=64,\n",
        "                                           num_classes=10,\n",
        "                                           lr=1e-3,\n",
        "                                           weight_decay=2e-4,\n",
        "                                           max_epochs=100)\n",
        "print(f\"Accuracy on training set: {100*resnet_result['train']:4.2f}%\")\n",
        "print(f\"Accuracy on test set: {100*resnet_result['test']:4.2f}%\")\n"
      ],
      "metadata": {
        "colab": {
          "base_uri": "https://localhost:8080/",
          "height": 309,
          "referenced_widgets": [
            "8499cfa0ee844beb8cd3586fcb5d8763",
            "430eb64a2e9247dcb6b99d75366e8462",
            "c8ef2c94a11943dba7bcf02ff33d8561",
            "26efb484659e440989ba33cd33c7721e",
            "f22f1c9d905f4276b68f5043034f8547",
            "45cd27c64b11420eb0f23cb26f08a559",
            "1a7189298ca54695aa0e9782c48d1dca",
            "b3862161445b4a678d72a7d9b60946ee",
            "a493fe94e9ff46ecbad3baa10cbdd8d2",
            "1241ea8a73da4f7dbfcf62a8ee0b796f",
            "fabc1734c2f648b795ad25467c8afa59",
            "937541af1ab54644a081002a16661190",
            "bf5468e1dacb454bad0e5e7e1ea4bf7a",
            "20f5f1cf890d47cfb5a0efeb40d794c1",
            "4058380c13b042f395ee27b5a5c0dd0c",
            "40fc5a28d398403f876a5fd3e7ed7ec7",
            "f73c00e06b6847dc88f2bb5b9d45dbab",
            "09a034a4cd024c4e810bd89318331e10",
            "16be4241d9a44192acc86fbb5657ad52",
            "cb0f353646bc41128f8af3ba1a88c0c0",
            "f30214a669c9408da33e096f0f0ad8d2",
            "32cc6584f3854623a0be7e69d83462c9"
          ]
        },
        "id": "lXr6qLlp2Vfm",
        "outputId": "7b54d674-ea7a-4dd6-9524-8b5c9fac2abf"
      },
      "execution_count": 47,
      "outputs": [
        {
          "output_type": "stream",
          "name": "stderr",
          "text": [
            "INFO:pytorch_lightning.utilities.rank_zero:GPU available: True (cuda), used: True\n",
            "INFO:pytorch_lightning.utilities.rank_zero:TPU available: False, using: 0 TPU cores\n",
            "INFO:pytorch_lightning.utilities.rank_zero:IPU available: False, using: 0 IPUs\n",
            "INFO:pytorch_lightning.utilities.rank_zero:HPU available: False, using: 0 HPUs\n"
          ]
        },
        {
          "output_type": "stream",
          "name": "stdout",
          "text": [
            "Found pretrained model at ../saved_models/tutorial17/ResNet.ckpt, loading...\n"
          ]
        },
        {
          "output_type": "stream",
          "name": "stderr",
          "text": [
            "WARNING:pytorch_lightning.loggers.tensorboard:Missing logger folder: ../saved_models/tutorial17/ResNet/lightning_logs\n",
            "INFO:pytorch_lightning.accelerators.cuda:LOCAL_RANK: 0 - CUDA_VISIBLE_DEVICES: [0]\n",
            "/usr/local/lib/python3.7/dist-packages/pytorch_lightning/trainer/connectors/data_connector.py:492: PossibleUserWarning: Your `test_dataloader`'s sampler has shuffling enabled, it is strongly recommended that you turn shuffling off for val/test/predict dataloaders.\n",
            "  category=PossibleUserWarning,\n"
          ]
        },
        {
          "output_type": "display_data",
          "data": {
            "text/plain": [
              "Testing: 0it [00:00, ?it/s]"
            ],
            "application/vnd.jupyter.widget-view+json": {
              "version_major": 2,
              "version_minor": 0,
              "model_id": "8499cfa0ee844beb8cd3586fcb5d8763"
            }
          },
          "metadata": {}
        },
        {
          "output_type": "stream",
          "name": "stderr",
          "text": [
            "INFO:pytorch_lightning.accelerators.cuda:LOCAL_RANK: 0 - CUDA_VISIBLE_DEVICES: [0]\n"
          ]
        },
        {
          "output_type": "display_data",
          "data": {
            "text/plain": [
              "Testing: 0it [00:00, ?it/s]"
            ],
            "application/vnd.jupyter.widget-view+json": {
              "version_major": 2,
              "version_minor": 0,
              "model_id": "937541af1ab54644a081002a16661190"
            }
          },
          "metadata": {}
        },
        {
          "output_type": "stream",
          "name": "stdout",
          "text": [
            "Accuracy on training set: 99.84%\n",
            "Accuracy on test set: 73.31%\n"
          ]
        }
      ]
    }
  ]
}