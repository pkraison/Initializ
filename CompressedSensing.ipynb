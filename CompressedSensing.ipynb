{
  "nbformat": 4,
  "nbformat_minor": 0,
  "metadata": {
    "colab": {
      "provenance": [],
      "authorship_tag": "ABX9TyM0oMUlOagKISqoxF7VaOXS",
      "include_colab_link": true
    },
    "kernelspec": {
      "name": "python3",
      "display_name": "Python 3"
    },
    "language_info": {
      "name": "python"
    }
  },
  "cells": [
    {
      "cell_type": "markdown",
      "metadata": {
        "id": "view-in-github",
        "colab_type": "text"
      },
      "source": [
        "<a href=\"https://colab.research.google.com/github/pkraison/Initializ/blob/master/CompressedSensing.ipynb\" target=\"_parent\"><img src=\"https://colab.research.google.com/assets/colab-badge.svg\" alt=\"Open In Colab\"/></a>"
      ]
    },
    {
      "cell_type": "code",
      "execution_count": null,
      "metadata": {
        "id": "fO5fY9nDR9Pg"
      },
      "outputs": [],
      "source": [
        "# make sure you've got the following packages installed\n",
        "import numpy as np\n",
        "import matplotlib as mpl\n",
        "import matplotlib.pyplot as plt\n",
        "import scipy.optimize as spopt\n",
        "import scipy.fftpack as spfft\n",
        "import scipy.ndimage as spimg\n",
        "import cvxpy as cvx"
      ]
    },
    {
      "cell_type": "code",
      "source": [
        "plt.style.use('classic')"
      ],
      "metadata": {
        "id": "u2opczuSdi1r"
      },
      "execution_count": null,
      "outputs": []
    },
    {
      "cell_type": "code",
      "source": [
        "# generate some data with noise\n",
        "x = np.sort(np.random.uniform(0, 10, 15))\n",
        "y = 3 + 0.2 * x + 0.1 * np.random.randn(len(x))"
      ],
      "metadata": {
        "id": "t_Ks1-CMS6V1"
      },
      "execution_count": null,
      "outputs": []
    },
    {
      "cell_type": "code",
      "source": [
        "# find L1 line fit\n",
        "l1_fit = lambda x0, x, y: np.sum(np.abs(x0[0] * x + x0[1] - y))\n",
        "xopt1 = spopt.fmin(func=l1_fit, x0=[1, 1], args=(x, y))\n",
        "\n",
        "# find L2 line fit\n",
        "l2_fit = lambda x0, x, y: np.sum(np.power(x0[0] * x + x0[1] - y, 2))\n",
        "xopt2 = spopt.fmin(func=l2_fit, x0=[1, 1], args=(x, y))"
      ],
      "metadata": {
        "colab": {
          "base_uri": "https://localhost:8080/"
        },
        "id": "OpxRIF61THTD",
        "outputId": "d8f273bc-fe67-4f00-ca0c-861919e615d7"
      },
      "execution_count": null,
      "outputs": [
        {
          "output_type": "stream",
          "name": "stdout",
          "text": [
            "Optimization terminated successfully.\n",
            "         Current function value: 0.738900\n",
            "         Iterations: 54\n",
            "         Function evaluations: 102\n",
            "Optimization terminated successfully.\n",
            "         Current function value: 0.066883\n",
            "         Iterations: 49\n",
            "         Function evaluations: 94\n"
          ]
        }
      ]
    },
    {
      "cell_type": "code",
      "source": [
        "# adjust data by adding outlyers\n",
        "y2 = y.copy()\n",
        "y2[3] += 4\n",
        "y2[13] -= 3\n",
        "\n",
        "# refit the lines\n",
        "xopt12 = spopt.fmin(func=l1_fit, x0=[1, 1], args=(x, y2))\n",
        "xopt22 = spopt.fmin(func=l2_fit, x0=[1, 1], args=(x, y2))"
      ],
      "metadata": {
        "colab": {
          "base_uri": "https://localhost:8080/"
        },
        "id": "gADzrUjXTMAR",
        "outputId": "8f1fc9f4-f2fb-456e-d89b-bd75f5708fad"
      },
      "execution_count": null,
      "outputs": [
        {
          "output_type": "stream",
          "name": "stdout",
          "text": [
            "Optimization terminated successfully.\n",
            "         Current function value: 7.669809\n",
            "         Iterations: 58\n",
            "         Function evaluations: 111\n",
            "Optimization terminated successfully.\n",
            "         Current function value: 22.058906\n",
            "         Iterations: 54\n",
            "         Function evaluations: 102\n"
          ]
        }
      ]
    },
    {
      "cell_type": "code",
      "source": [
        "# sum of two sinusoids\n",
        "n = 5000\n",
        "t = np.linspace(0, 1/8, n)\n",
        "y = np.sin(1394 * np.pi * t) + np.sin(3266 * np.pi * t)\n",
        "yt = spfft.dct(y, norm='ortho')\n",
        "\n",
        "#plt.plot(y)\n",
        "#plt.plot(yt)"
      ],
      "metadata": {
        "id": "5H-LuxfjTffL"
      },
      "execution_count": null,
      "outputs": []
    },
    {
      "cell_type": "code",
      "source": [
        "# extract small sample of signal\n",
        "m = 500 # 10% sample\n",
        "ri = np.random.choice(n, m, replace=False) # random sample of indices\n",
        "ri.sort() # sorting not strictly necessary, but convenient for plotting\n",
        "t2 = t[ri]\n",
        "y2 = y[ri]"
      ],
      "metadata": {
        "id": "qUsKQVJ8dMV9"
      },
      "execution_count": null,
      "outputs": []
    },
    {
      "cell_type": "code",
      "source": [
        "# create idct matrix operator\n",
        "A = spfft.idct(np.identity(n), norm='ortho', axis=0)\n",
        "A = A[ri]\n",
        "\n",
        "# do L1 optimization\n",
        "vx = cvx.Variable(n)\n",
        "objective = cvx.Minimize(cvx.norm(vx, 1))\n",
        "constraints = [A*vx == y2]\n",
        "prob = cvx.Problem(objective, constraints)\n",
        "result = prob.solve(verbose=True)"
      ],
      "metadata": {
        "colab": {
          "base_uri": "https://localhost:8080/"
        },
        "id": "Wqy-NwZ4dQmH",
        "outputId": "9f926bbf-5d6f-4141-bcff-b661534e5305"
      },
      "execution_count": null,
      "outputs": [
        {
          "output_type": "stream",
          "name": "stdout",
          "text": [
            "===============================================================================\n",
            "                                     CVXPY                                     \n",
            "                                     v1.2.1                                    \n",
            "===============================================================================\n",
            "(CVXPY) Nov 09 01:03:12 PM: Your problem has 5000 variables, 1 constraints, and 0 parameters.\n",
            "(CVXPY) Nov 09 01:03:13 PM: It is compliant with the following grammars: DCP, DQCP\n",
            "(CVXPY) Nov 09 01:03:13 PM: (If you need to solve this problem multiple times, but with different data, consider using parameters.)\n",
            "(CVXPY) Nov 09 01:03:13 PM: CVXPY will first compile your problem; then, it will invoke a numerical solver to obtain a solution.\n",
            "-------------------------------------------------------------------------------\n",
            "                                  Compilation                                  \n",
            "-------------------------------------------------------------------------------\n",
            "(CVXPY) Nov 09 01:03:13 PM: Compiling problem (target solver=ECOS).\n",
            "(CVXPY) Nov 09 01:03:13 PM: Reduction chain: Dcp2Cone -> CvxAttr2Constr -> ConeMatrixStuffing -> ECOS\n",
            "(CVXPY) Nov 09 01:03:13 PM: Applying reduction Dcp2Cone\n",
            "(CVXPY) Nov 09 01:03:13 PM: Applying reduction CvxAttr2Constr\n",
            "(CVXPY) Nov 09 01:03:13 PM: Applying reduction ConeMatrixStuffing\n"
          ]
        },
        {
          "output_type": "stream",
          "name": "stderr",
          "text": [
            "/usr/local/lib/python3.7/dist-packages/cvxpy/expressions/expression.py:593: UserWarning: \n",
            "This use of ``*`` has resulted in matrix multiplication.\n",
            "Using ``*`` for matrix multiplication has been deprecated since CVXPY 1.1.\n",
            "    Use ``*`` for matrix-scalar and vector-scalar multiplication.\n",
            "    Use ``@`` for matrix-matrix and matrix-vector multiplication.\n",
            "    Use ``multiply`` for elementwise multiplication.\n",
            "This code path has been hit 1 times so far.\n",
            "\n",
            "  warnings.warn(msg, UserWarning)\n"
          ]
        },
        {
          "output_type": "stream",
          "name": "stdout",
          "text": [
            "(CVXPY) Nov 09 01:03:14 PM: Applying reduction ECOS\n",
            "(CVXPY) Nov 09 01:03:15 PM: Finished problem compilation (took 2.376e+00 seconds).\n",
            "-------------------------------------------------------------------------------\n",
            "                                Numerical solver                               \n",
            "-------------------------------------------------------------------------------\n",
            "(CVXPY) Nov 09 01:03:15 PM: Invoking solver ECOS  to obtain a solution.\n",
            "-------------------------------------------------------------------------------\n",
            "                                    Summary                                    \n",
            "-------------------------------------------------------------------------------\n",
            "(CVXPY) Nov 09 01:03:57 PM: Problem status: optimal\n",
            "(CVXPY) Nov 09 01:03:57 PM: Optimal value: 3.485e+02\n",
            "(CVXPY) Nov 09 01:03:57 PM: Compilation took 2.376e+00 seconds\n",
            "(CVXPY) Nov 09 01:03:57 PM: Solver (including time spent in interface) took 4.175e+01 seconds\n"
          ]
        }
      ]
    },
    {
      "cell_type": "code",
      "source": [],
      "metadata": {
        "id": "_uCNqGS-fMN2"
      },
      "execution_count": null,
      "outputs": []
    }
  ]
}